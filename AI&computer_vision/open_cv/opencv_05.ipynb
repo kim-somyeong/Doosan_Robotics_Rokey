{
 "cells": [
  {
   "cell_type": "code",
   "execution_count": 1,
   "metadata": {},
   "outputs": [
    {
     "data": {
      "text/plain": [
       "'4.10.0'"
      ]
     },
     "execution_count": 1,
     "metadata": {},
     "output_type": "execute_result"
    }
   ],
   "source": [
    "import cv2\n",
    "cv2.__version__"
   ]
  },
  {
   "cell_type": "markdown",
   "metadata": {},
   "source": [
    "# Chapter 5 기하학적 변환"
   ]
  },
  {
   "cell_type": "code",
   "execution_count": 1,
   "metadata": {},
   "outputs": [
    {
     "name": "stdout",
     "output_type": "stream",
     "text": [
      "/home/somyeong/Doosan_Robotics/Doosan-Robotics/AI(computer_vision)/open_cv/insightbook.opencv_project_python/05.geometric_transform\n"
     ]
    },
    {
     "name": "stderr",
     "output_type": "stream",
     "text": [
      "/home/somyeong/.local/lib/python3.10/site-packages/IPython/core/magics/osm.py:417: UserWarning: This is now an optional IPython functionality, setting dhist requires you to install the `pickleshare` library.\n",
      "  self.shell.db['dhist'] = compress_dhist(dhist)[-100:]\n"
     ]
    }
   ],
   "source": [
    "%cd /home/somyeong/Doosan_Robotics/Doosan-Robotics/AI(computer_vision)/open_cv/insightbook.opencv_project_python/05.geometric_transform"
   ]
  },
  {
   "cell_type": "markdown",
   "metadata": {},
   "source": [
    "- 2 x 3 행렬 : Affine Transformation\n",
    "- 3 x 3 행렬 : Perspective Transformation"
   ]
  },
  {
   "cell_type": "markdown",
   "metadata": {},
   "source": [
    "## 5.1 이동, 확대 / 축소, 회전"
   ]
  },
  {
   "cell_type": "markdown",
   "metadata": {},
   "source": [
    "### 5.1.1 이동"
   ]
  },
  {
   "cell_type": "code",
   "execution_count": 2,
   "metadata": {},
   "outputs": [
    {
     "name": "stdout",
     "output_type": "stream",
     "text": [
      "qt.qpa.plugin: Could not find the Qt platform plugin \"wayland\" in \"/home/somyeong/.local/lib/python3.10/site-packages/cv2/qt/plugins\"\n"
     ]
    }
   ],
   "source": [
    "!python3 translate.py"
   ]
  },
  {
   "cell_type": "code",
   "execution_count": 4,
   "metadata": {},
   "outputs": [
    {
     "name": "stdout",
     "output_type": "stream",
     "text": [
      "(256, 256, 3)\n",
      "dst.shape: (306, 356, 3)\n",
      "dst2.shape: (306, 356, 3)\n",
      "dst3.shape: (306, 356, 3)\n"
     ]
    },
    {
     "name": "stderr",
     "output_type": "stream",
     "text": [
      "qt.qpa.plugin: Could not find the Qt platform plugin \"wayland\" in \"/home/somyeong/.local/lib/python3.10/site-packages/cv2/qt/plugins\"\n"
     ]
    }
   ],
   "source": [
    "import cv2\n",
    "import numpy as np\n",
    "\n",
    "img = cv2.imread('../img/fish.jpg')\n",
    "rows,cols = img.shape[0:2]  # 영상의 크기\n",
    "print(img.shape)            #크기 확인해보자! (256, 256, 3)\n",
    "\n",
    "dx, dy = 100, 50            # 이동할 픽셀 거리\n",
    "\n",
    "# ---① 변환 행렬 생성\n",
    "mtrx = np.float32([[1, 0, dx],\n",
    "                   [0, 1, dy]])\n",
    "# ---② 단순 이동\n",
    "dst = cv2.warpAffine(img, mtrx, (cols+dx, rows+dy))\n",
    "print(f\"dst.shape: {dst.shape}\")\n",
    "\n",
    "# ---③ 탈락된 외곽 픽셀을 파랑색으로 보정\n",
    "dst2 = cv2.warpAffine(img, mtrx, (cols+dx, rows+dy), None, \\\n",
    "                        cv2.INTER_LINEAR, cv2.BORDER_CONSTANT, (255,0,0) )\n",
    "print(f\"dst2.shape: {dst2.shape}\")\n",
    "\n",
    "# ---④ 탈락된 외곽 픽셀을 원본을 반사 시켜서 보정\n",
    "dst3 = cv2.warpAffine(img, mtrx, (cols+dx, rows+dy), None, \\\n",
    "                                cv2.INTER_LINEAR, cv2.BORDER_REFLECT)\n",
    "print(f\"dst3.shape: {dst3.shape}\")\n",
    "\n",
    "cv2.imshow('original', img)\n",
    "cv2.imshow('trans',dst)\n",
    "cv2.imshow('BORDER_CONSTATNT', dst2)\n",
    "cv2.imshow('BORDER_FEFLECT', dst3)\n",
    "\n",
    "#cv2_imshow(img)\n",
    "#cv2_imshow(dst)\n",
    "#cv2_imshow(dst2)\n",
    "#cv2_imshow(dst3)\n",
    "\n",
    "cv2.waitKey(0)\n",
    "cv2.destroyAllWindows()"
   ]
  },
  {
   "cell_type": "markdown",
   "metadata": {},
   "source": [
    "### 5.1.2 확대/축소"
   ]
  },
  {
   "cell_type": "code",
   "execution_count": 7,
   "metadata": {},
   "outputs": [
    {
     "name": "stdout",
     "output_type": "stream",
     "text": [
      "qt.qpa.plugin: Could not find the Qt platform plugin \"wayland\" in \"/home/somyeong/.local/lib/python3.10/site-packages/cv2/qt/plugins\"\n"
     ]
    }
   ],
   "source": [
    "!python3 scale_matrix.py"
   ]
  },
  {
   "cell_type": "code",
   "execution_count": 3,
   "metadata": {},
   "outputs": [
    {
     "name": "stderr",
     "output_type": "stream",
     "text": [
      "qt.qpa.plugin: Could not find the Qt platform plugin \"wayland\" in \"/home/somyeong/.local/lib/python3.10/site-packages/cv2/qt/plugins\"\n"
     ]
    },
    {
     "name": "stdout",
     "output_type": "stream",
     "text": [
      "img.shape: (256, 256, 3)\n",
      "dst1.shape: (128, 128, 3)\n",
      "dst2.shape: (512, 512, 3)\n",
      "dst3.shape: (128, 128, 3)\n",
      "dst4.shape: (512, 512, 3)\n"
     ]
    }
   ],
   "source": [
    "import cv2\n",
    "import numpy as np\n",
    "\n",
    "img = cv2.imread('../img/fish.jpg')\n",
    "height, width = img.shape[:2]\n",
    "\n",
    "# --① 0.5배 축소 변환 행렬\n",
    "m_small = np.float32([[0.5, 0, 0],\n",
    "                       [0, 0.5,0]])\n",
    "# --② 2배 확대 변환 행렬\n",
    "m_big = np.float32([[2, 0, 0],\n",
    "                     [0, 2, 0]])\n",
    "\n",
    "# --③ 보간법 적용 없이 확대 축소\n",
    "dst1 = cv2.warpAffine(img, m_small, (int(height*0.5), int(width*0.5)))\n",
    "dst2 = cv2.warpAffine(img, m_big, (int(height*2), int(width*2)))\n",
    "\n",
    "# --④ 보간법 적용한 확대 축소\n",
    "#보간법 :확대/축소된 부분의 선들을 매끄럽게 처리 \n",
    "dst3 = cv2.warpAffine(img, m_small, (int(height*0.5), int(width*0.5)), \\\n",
    "                        None, cv2.INTER_AREA)\n",
    "dst4 = cv2.warpAffine(img, m_big, (int(height*2), int(width*2)), \\\n",
    "                        None, cv2.INTER_CUBIC)\n",
    "\n",
    "# 결과 출력\n",
    "cv2.imshow(\"original\", img)\n",
    "cv2.imshow(\"small\", dst1)\n",
    "cv2.imshow(\"big\", dst2)\n",
    "cv2.imshow(\"small INTER_AREA\", dst3)\n",
    "cv2.imshow(\"big INTER_CUBIC\", dst4)\n",
    "\n",
    "#cv2_imshow(img)\n",
    "#cv2_imshow(dst1)\n",
    "#cv2_imshow(dst2)\n",
    "#cv2_imshow(dst3)\n",
    "#cv2_imshow(dst4)\n",
    "\n",
    "print(f\"img.shape: {img.shape}\")\n",
    "print(f\"dst1.shape: {dst1.shape}\")\n",
    "print(f\"dst2.shape: {dst2.shape}\")\n",
    "print(f\"dst3.shape: {dst3.shape}\")\n",
    "print(f\"dst4.shape: {dst4.shape}\")\n",
    "\n",
    "cv2.waitKey(0)\n",
    "cv2.destroyAllWindows()"
   ]
  },
  {
   "cell_type": "code",
   "execution_count": 6,
   "metadata": {},
   "outputs": [
    {
     "name": "stdout",
     "output_type": "stream",
     "text": [
      "qt.qpa.plugin: Could not find the Qt platform plugin \"wayland\" in \"/home/somyeong/.local/lib/python3.10/site-packages/cv2/qt/plugins\"\n"
     ]
    }
   ],
   "source": [
    "!python3 scale_resize.py"
   ]
  },
  {
   "cell_type": "code",
   "execution_count": 4,
   "metadata": {},
   "outputs": [],
   "source": [
    "import cv2\n",
    "import numpy as np\n",
    "\n",
    "img = cv2.imread('../img/fish.jpg')\n",
    "height, width = img.shape[:2]\n",
    "\n",
    "#resize라는 함수를 사용해 확대/축소를 하자!\n",
    "\n",
    "#--① 크기 지정으로 축소\n",
    "#dst1 = cv2.resize(img, (int(width*0.5), int(height*0.5)),\\\n",
    "#                        None, 0, 0, cv2.INTER_AREA)\n",
    "dst1 = cv2.resize(img, (int(width*0.5), int(height*0.5)), \\\n",
    "                         interpolation=cv2.INTER_AREA)\n",
    "\n",
    "#--② 배율 지정으로 확대\n",
    "dst2 = cv2.resize(img, None,  None, 2, 2, cv2.INTER_CUBIC)\n",
    "#--③ 결과 출력\n",
    "cv2.imshow(\"original\", img)\n",
    "cv2.imshow(\"small\", dst1)\n",
    "cv2.imshow(\"big\", dst2)\n",
    "\n",
    "#cv2_imshow(img)\n",
    "#cv2_imshow(dst1)\n",
    "#cv2_imshow(dst2)\n",
    "\n",
    "cv2.waitKey(0)\n",
    "cv2.destroyAllWindows()"
   ]
  },
  {
   "cell_type": "markdown",
   "metadata": {},
   "source": [
    "### 5.1.3 회전"
   ]
  },
  {
   "cell_type": "code",
   "execution_count": 8,
   "metadata": {},
   "outputs": [
    {
     "name": "stdout",
     "output_type": "stream",
     "text": [
      "qt.qpa.plugin: Could not find the Qt platform plugin \"wayland\" in \"/home/somyeong/.local/lib/python3.10/site-packages/cv2/qt/plugins\"\n"
     ]
    }
   ],
   "source": [
    "!python3 rotate_matrix.py"
   ]
  },
  {
   "cell_type": "code",
   "execution_count": 5,
   "metadata": {},
   "outputs": [],
   "source": [
    "import cv2\n",
    "import numpy as np\n",
    "\n",
    "img = cv2.imread('../img/fish.jpg')\n",
    "rows,cols = img.shape[0:2]\n",
    "\n",
    "# ---① 라디안 각도 계산(60진법을 호도법으로 변경)  \n",
    "# #0~360 ->60진법 / 0~2파이 -> 라디안\n",
    "d45 = 45.0 * np.pi / 180    # 45도\n",
    "d90 = 90.0 * np.pi / 180    # 90도\n",
    "\n",
    "# ---② 회전을 위한 변환 행렬 생성\n",
    "m45 = np.float32( [[ np.cos(d45), -1* np.sin(d45), rows//2],\n",
    "                    [np.sin(d45), np.cos(d45), -1*cols//4]])\n",
    "m90 = np.float32( [[ np.cos(d90), -1* np.sin(d90), rows],\n",
    "                    [np.sin(d90), np.cos(d90), 0]])\n",
    "\n",
    "# ---③ 회전 변환 행렬 적용\n",
    "r45 = cv2.warpAffine(img,m45,(cols,rows))\n",
    "r90 = cv2.warpAffine(img,m90,(rows,cols))\n",
    "\n",
    "# ---④ 결과 출력\n",
    "cv2.imshow(\"origin\", img)\n",
    "cv2.imshow(\"45\", r45)\n",
    "cv2.imshow(\"90\", r90)\n",
    "\n",
    "#cv2_imshow(img)\n",
    "#cv2_imshow(r45)\n",
    "#cv2_imshow(r90)\n",
    "\n",
    "cv2.waitKey(0)\n",
    "cv2.destroyAllWindows()"
   ]
  },
  {
   "cell_type": "code",
   "execution_count": 14,
   "metadata": {},
   "outputs": [
    {
     "name": "stdout",
     "output_type": "stream",
     "text": [
      "qt.qpa.plugin: Could not find the Qt platform plugin \"wayland\" in \"/home/somyeong/.local/lib/python3.10/site-packages/cv2/qt/plugins\"\n"
     ]
    }
   ],
   "source": [
    "!python3 rotate_getmatrix.py"
   ]
  },
  {
   "cell_type": "code",
   "execution_count": 6,
   "metadata": {},
   "outputs": [],
   "source": [
    "import cv2\n",
    "\n",
    "img = cv2.imread('../img/fish.jpg')\n",
    "rows,cols = img.shape[0:2]\n",
    "\n",
    "#---① 회전을 위한 변환 행렬 구하기\n",
    "#getRotationMatrix2D 함수는 60진법으로 바로 바꿔주는 함수 / matrix를 warpAffine에 가져옴\n",
    "# 회전축:중앙, 각도:45, 배율:0.5\n",
    "m45 = cv2.getRotationMatrix2D((cols/2,rows/2),45,0.5)\n",
    "# 회전축:중앙, 각도:90, 배율:1.5\n",
    "m90 = cv2.getRotationMatrix2D((cols/2,rows/2),90,1.5)\n",
    "\n",
    "#---② 변환 행렬 적용\n",
    "img45 = cv2.warpAffine(img, m45,(cols, rows))\n",
    "img90 = cv2.warpAffine(img, m90,(cols, rows))\n",
    "\n",
    "#---③ 결과 출력\n",
    "cv2.imshow('origin',img)\n",
    "cv2.imshow(\"45\", img45)\n",
    "#v2.imshow(\"90\", img90)\n",
    "\n",
    "#cv2_imshow(img)\n",
    "#cv2_imshow(img45)\n",
    "#cv2_imshow(img90)\n",
    "\n",
    "cv2.waitKey(0)\n",
    "cv2.destroyAllWindows()"
   ]
  },
  {
   "cell_type": "markdown",
   "metadata": {},
   "source": [
    "## 5.2 뒤틀기"
   ]
  },
  {
   "cell_type": "markdown",
   "metadata": {},
   "source": [
    "### 5.2.1 어핀 변환"
   ]
  },
  {
   "cell_type": "code",
   "execution_count": 9,
   "metadata": {},
   "outputs": [
    {
     "name": "stdout",
     "output_type": "stream",
     "text": [
      "qt.qpa.plugin: Could not find the Qt platform plugin \"wayland\" in \"/home/somyeong/.local/lib/python3.10/site-packages/cv2/qt/plugins\"\n"
     ]
    }
   ],
   "source": [
    "!python3 getAffine.py"
   ]
  },
  {
   "cell_type": "code",
   "execution_count": 7,
   "metadata": {},
   "outputs": [
    {
     "name": "stdout",
     "output_type": "stream",
     "text": [
      "y(rows) : 256, x(cols) : 256\n",
      "[[ 1.30000000e+00  1.13333333e+00 -1.06666667e+02]\n",
      " [-1.00000000e-01  3.33333333e-01  6.33333333e+01]]\n"
     ]
    }
   ],
   "source": [
    "import cv2\n",
    "import numpy as np\n",
    "from matplotlib import pyplot as plt\n",
    "\n",
    "file_name = '../img/fish.jpg'\n",
    "img = cv2.imread(file_name)\n",
    "rows, cols = img.shape[:2]\n",
    "print(f\"y(rows) : {rows}, x(cols) : {cols}\")\n",
    "\n",
    "# ---① 변환 전, 후 각 3개의 좌표 생성\n",
    "pts1 = np.float32([[100, 50], [200, 50], [100, 200]]) #점 3개\n",
    "pts2 = np.float32([[80, 70], [210, 60], [250, 120]])  #변환 후의 점 3개\n",
    "\n",
    "# ---② 변환 전 좌표를 이미지에 표시\n",
    "cv2.circle(img, (100,50), 5, (255,0), -1)\n",
    "cv2.circle(img, (200,50), 5, (0,255,0), -1)\n",
    "cv2.circle(img, (100,200), 5, (0,0,255), -1)\n",
    "\n",
    "#추가된 코드\n",
    "cv2.circle(img, (80,70), 5, (0,255,255), -1)\n",
    "cv2.circle(img, (210,60), 5, (0,255,255), -1)\n",
    "cv2.circle(img, (250,120), 5, (0,255,255), -1)\n",
    "\n",
    "#---③ 짝지은 3개의 좌표로 변환 행렬 계산 / getAffineTransform이라는 함수 사용\n",
    "mtrx = cv2.getAffineTransform(pts1, pts2)\n",
    "print(mtrx)\n",
    "\n",
    "#---④ 어핀 변환 적용\n",
    "dst = cv2.warpAffine(img, mtrx, (int(cols*1.5), rows))\n",
    "\n",
    "#---⑤ 결과 출력\n",
    "cv2.imshow('origin',img)\n",
    "cv2.imshow('affin', dst)\n",
    "\n",
    "#cv2_imshow(img)\n",
    "#cv2_imshow(dst)\n",
    "\n",
    "cv2.waitKey(0)\n",
    "cv2.destroyAllWindows()"
   ]
  },
  {
   "cell_type": "markdown",
   "metadata": {},
   "source": [
    "### 5.2.2 원근 변환"
   ]
  },
  {
   "cell_type": "markdown",
   "metadata": {},
   "source": [
    "3 x 3 행렬\n",
    "점 4개 필요"
   ]
  },
  {
   "cell_type": "code",
   "execution_count": 18,
   "metadata": {},
   "outputs": [
    {
     "name": "stdout",
     "output_type": "stream",
     "text": [
      "qt.qpa.plugin: Could not find the Qt platform plugin \"wayland\" in \"/home/somyeong/.local/lib/python3.10/site-packages/cv2/qt/plugins\"\n"
     ]
    }
   ],
   "source": [
    "!python3 perspective.py"
   ]
  },
  {
   "cell_type": "code",
   "execution_count": 8,
   "metadata": {},
   "outputs": [
    {
     "name": "stdout",
     "output_type": "stream",
     "text": [
      "y(rows) : 256, x(cols) : 256\n",
      "[[ 2.18750000e-01 -3.81355932e-01  1.00000000e+02]\n",
      " [ 0.00000000e+00 -4.36970339e-03  5.00000000e+01]\n",
      " [-0.00000000e+00 -2.97934322e-03  1.00000000e+00]]\n",
      "(256, 256, 3)\n"
     ]
    }
   ],
   "source": [
    "import cv2\n",
    "import numpy as np\n",
    "\n",
    "file_name = \"../img/fish.jpg\"\n",
    "img = cv2.imread(file_name)\n",
    "rows, cols = img.shape[:2]\n",
    "print(f\"y(rows) : {rows}, x(cols) : {cols}\")\n",
    "\n",
    "#---① 원근 변환 전 후 4개 좌표\n",
    "pts1 = np.float32([[0,0], [0,rows], [cols, 0], [cols,rows]]) #4개의 점\n",
    "pts2 = np.float32([[100,50], [10,rows-50], [cols-100, 50], [cols-10,rows-50]]) #변환시키고자 하는 4개의 점\n",
    "\n",
    "#---② 변환 전 좌표를 원본 이미지에 표시\n",
    "cv2.circle(img, (0,0), 10, (255,0,0), -1)\n",
    "cv2.circle(img, (0,rows), 10, (0,255,0), -1)\n",
    "cv2.circle(img, (cols,0), 10, (0,0,255), -1)\n",
    "cv2.circle(img, (cols,rows), 10, (0,255,255), -1)\n",
    "\n",
    "\n",
    "cv2.circle(img, (100,50), 10, (255,255,0), -1)\n",
    "cv2.circle(img, (10,rows-50), 10, (255,255,0), -1)\n",
    "cv2.circle(img, (cols-100,50), 10, (255,255, 0), -1)\n",
    "cv2.circle(img, (cols-10,rows-50), 10, (255,255,0), -1)\n",
    "\n",
    "\n",
    "#getPerspectiveTransform 함수는 점을 찍은 값을 인자로 함수에 전달 -> 3x3 matrix에 전달\n",
    "#그 후 warpPerspective 함수에 전달하여 해당 부분 스캔\n",
    "\n",
    "#---③ 원근 변환 행렬 계산\n",
    "mtrx = cv2.getPerspectiveTransform(pts1, pts2)\n",
    "print(mtrx) #변환 행렬 출력\n",
    "\n",
    "#---④ 원근 변환 적용\n",
    "dst = cv2.warpPerspective(img, mtrx, (cols, rows))\n",
    "print(dst.shape)   #(256, 256, 3)\n",
    "\n",
    "cv2.imshow(\"origin\", img)\n",
    "cv2.imshow('perspective', dst)\n",
    "\n",
    "#cv2_imshow(img)\n",
    "#cv2_imshow(dst)\n",
    "\n",
    "cv2.waitKey(0)\n",
    "cv2.destroyAllWindows()"
   ]
  },
  {
   "cell_type": "code",
   "execution_count": 15,
   "metadata": {},
   "outputs": [
    {
     "name": "stdout",
     "output_type": "stream",
     "text": [
      "qt.qpa.plugin: Could not find the Qt platform plugin \"wayland\" in \"/home/somyeong/.local/lib/python3.10/site-packages/cv2/qt/plugins\"\n"
     ]
    }
   ],
   "source": [
    "!python3 perspective_scan.py"
   ]
  },
  {
   "cell_type": "code",
   "execution_count": 9,
   "metadata": {},
   "outputs": [],
   "source": [
    "import cv2\n",
    "import numpy as np\n",
    "\n",
    "win_name = \"scanning\"\n",
    "img = cv2.imread(\"../img/paper.jpg\")\n",
    "rows, cols = img.shape[:2]\n",
    "draw = img.copy()\n",
    "pts_cnt = 0\n",
    "pts = np.zeros((4,2), dtype=np.float32)\n",
    "\n",
    "def onMouse(event, x, y, flags, param):  #마우스 이벤트 콜백 함수 구현 ---① \n",
    "    global  pts_cnt                     # 마우스로 찍은 좌표의 갯수 저장\n",
    "    if event == cv2.EVENT_LBUTTONDOWN:  \n",
    "        cv2.circle(draw, (x,y), 10, (0,255,0), -1) # 좌표에 초록색 동그라미 표시\n",
    "        cv2.imshow(win_name, draw)\n",
    "\n",
    "        pts[pts_cnt] = [x,y]            # 마우스 좌표 저장\n",
    "        pts_cnt+=1\n",
    "        if pts_cnt == 4:                       # 좌표가 4개 수집됨 \n",
    "            # 좌표 4개 중 상하좌우 찾기 ---② \n",
    "            sm = pts.sum(axis=1)                 # 4쌍의 좌표 각각 x+y 계산\n",
    "            diff = np.diff(pts, axis = 1)       # 4쌍의 좌표 각각 x-y 계산\n",
    "\n",
    "            topLeft = pts[np.argmin(sm)]         # x+y가 가장 값이 좌상단 좌표\n",
    "            bottomRight = pts[np.argmax(sm)]     # x+y가 가장 큰 값이 좌상단 좌표\n",
    "            topRight = pts[np.argmin(diff)]     # x-y가 가장 작은 것이 우상단 좌표\n",
    "            bottomLeft = pts[np.argmax(diff)]   # x-y가 가장 큰 값이 좌하단 좌표\n",
    "\n",
    "            # 변환 전 4개 좌표 \n",
    "            pts1 = np.float32([topLeft, topRight, bottomRight , bottomLeft])\n",
    "\n",
    "            # 변환 후 영상에 사용할 서류의 폭과 높이 계산 ---③ \n",
    "            w1 = abs(bottomRight[0] - bottomLeft[0])    # 상단 좌우 좌표간의 거리\n",
    "            w2 = abs(topRight[0] - topLeft[0])          # 하당 좌우 좌표간의 거리\n",
    "            h1 = abs(topRight[1] - bottomRight[1])      # 우측 상하 좌표간의 거리\n",
    "            h2 = abs(topLeft[1] - bottomLeft[1])        # 좌측 상하 좌표간의 거리\n",
    "            width = max([w1, w2])                       # 두 좌우 거리간의 최대값이 서류의 폭\n",
    "            height = max([h1, h2])                      # 두 상하 거리간의 최대값이 서류의 높이\n",
    "            \n",
    "            # 변환 후 4개 좌표\n",
    "            pts2 = np.float32([[0,0], [width-1,0], \n",
    "                                [width-1,height-1], [0,height-1]])\n",
    "\n",
    "            # 변환 행렬 계산 \n",
    "            mtrx = cv2.getPerspectiveTransform(pts1, pts2)\n",
    "            # 원근 변환 적용\n",
    "            result = cv2.warpPerspective(img, mtrx, (int(width), int(height)))\n",
    "            cv2.imshow('scanned', result)\n",
    "cv2.imshow(win_name, img)\n",
    "cv2.setMouseCallback(win_name, onMouse)    # 마우스 콜백 함수를 GUI 윈도우에 등록 ---④\n",
    "cv2.waitKey(0)\n",
    "cv2.destroyAllWindows()"
   ]
  },
  {
   "cell_type": "markdown",
   "metadata": {},
   "source": [
    "### 5.2.3 삼각형 어핀 변환"
   ]
  },
  {
   "cell_type": "code",
   "execution_count": 22,
   "metadata": {},
   "outputs": [
    {
     "name": "stdout",
     "output_type": "stream",
     "text": [
      "qt.qpa.plugin: Could not find the Qt platform plugin \"wayland\" in \"/home/somyeong/.local/lib/python3.10/site-packages/cv2/qt/plugins\"\n"
     ]
    }
   ],
   "source": [
    "!python3 triangle_affine.py"
   ]
  },
  {
   "cell_type": "code",
   "execution_count": 23,
   "metadata": {},
   "outputs": [],
   "source": [
    "import cv2\n",
    "import numpy as np\n",
    "\n",
    "img = cv2.imread(\"../img/taekwonv1.jpg\")\n",
    "img2 = img.copy()\n",
    "draw = img.copy()\n",
    "\n",
    "# 변환 전,후 삼각형 좌표 ---①  (평면 : affine)\n",
    "pts1 = np.float32([[188,14], [85,202], [294,216]])\n",
    "pts2 = np.float32([[128,40], [85,307], [306,167]])\n",
    "\n",
    "# 각 삼각형을 완전히 감싸는 사각형 좌표 구하기 ---②\n",
    "x1,y1,w1,h1 = cv2.boundingRect(pts1)\n",
    "x2,y2,w2,h2 = cv2.boundingRect(pts2)\n",
    "\n",
    "# 사각형을 이용한 관심영역 설정 ---③\n",
    "roi1 = img[y1:y1+h1, x1:x1+w1]\n",
    "roi2 = img2[y2:y2+h2, x2:x2+w2]\n",
    "\n",
    "# 관심영역을 기준으로 좌표 계산 ---④\n",
    "offset1 = np.zeros((3,2), dtype=np.float32)\n",
    "offset2 = np.zeros((3,2), dtype=np.float32)\n",
    "for i in range(3):\n",
    "    offset1[i][0], offset1[i][1] = pts1[i][0]-x1, pts1[i][1]-y1\n",
    "    offset2[i][0], offset2[i][1] = pts2[i][0]-x2, pts2[i][1]-y2\n",
    "\n",
    "# 관심 영역을 주어진 삼각형 좌표로 어핀 변환 ---⑤\n",
    "mtrx = cv2.getAffineTransform(offset1, offset2)\n",
    "warped = cv2.warpAffine( roi1, mtrx, (w2, h2), None, \\\n",
    "                        cv2.INTER_LINEAR, cv2.BORDER_REFLECT_101)\n",
    "\n",
    "# 어핀 변환 후 삼각형만 골라 내기 위한 마스크 생성 ---⑥\n",
    "mask = np.zeros((h2, w2), dtype = np.uint8)\n",
    "cv2.fillConvexPoly(mask, np.int32(offset2), (255))\n",
    "\n",
    "# 삼각형 영역만 마스킹해서 합성 ---⑦\n",
    "warped_masked = cv2.bitwise_and(warped, warped, mask=mask)\n",
    "roi2_masked = cv2.bitwise_and(roi2, roi2, mask=cv2.bitwise_not(mask))\n",
    "roi2_masked = roi2_masked + warped_masked\n",
    "img2[y2:y2+h2, x2:x2+w2] = roi2_masked\n",
    "\n",
    "# 관심 영역과 삼각형에 선 그려서 출력 ---⑧\n",
    "cv2.rectangle(draw, (x1, y1), (x1+w1, y1+h1), (0,255,0), 1)\n",
    "cv2.polylines(draw, [pts1.astype(np.int32)], True, (255,0,0), 1)\n",
    "cv2.rectangle(img2, (x2, y2), (x2+w2, y2+h2), (0,255,0), 1)\n",
    "cv2.imshow('origin', draw)\n",
    "cv2.imshow('warped triangle', img2)\n",
    "\n",
    "#cv2_imshow(draw)\n",
    "#cv2_imshow(img2)\n",
    "\n",
    "cv2.waitKey(0)\n",
    "cv2.destroyAllWindows()"
   ]
  },
  {
   "cell_type": "markdown",
   "metadata": {},
   "source": [
    "## 5.3 렌즈 왜곡"
   ]
  },
  {
   "cell_type": "markdown",
   "metadata": {},
   "source": [
    "### 5.3.1 리매핑"
   ]
  },
  {
   "cell_type": "code",
   "execution_count": 25,
   "metadata": {},
   "outputs": [
    {
     "name": "stdout",
     "output_type": "stream",
     "text": [
      "python3: can't open file '/home/somyeong/Doosan_Robotics/Doosan-Robotics/AI(computer_vision)/open_cv/insightbook.opencv_project_python/05.geometric_transform/remap_filp.py': [Errno 2] No such file or directory\n"
     ]
    }
   ],
   "source": [
    "!python3 remap_flip.py"
   ]
  },
  {
   "cell_type": "code",
   "execution_count": 10,
   "metadata": {},
   "outputs": [
    {
     "name": "stdout",
     "output_type": "stream",
     "text": [
      "matrix: 0.000675201416015625\n",
      "remap: 0.0017747879028320312\n"
     ]
    }
   ],
   "source": [
    "import cv2\n",
    "import numpy as np\n",
    "import time\n",
    "\n",
    "img = cv2.imread('../img/girl.jpg')\n",
    "rows, cols = img.shape[:2]  #가로, 세로 크기\n",
    "\n",
    "# 뒤집기 변환 행렬로 구현 ---①\n",
    "st = time.time()\n",
    "mflip = np.float32([ [-1, 0, cols-1],[0, -1, rows-1]]) # 변환 행렬 생성\n",
    "fliped1 = cv2.warpAffine(img, mflip, (cols, rows))     # 변환 적용\n",
    "print('matrix:', time.time()-st)  #걸린 시간 측정 & 출력\n",
    "\n",
    "# remap 함수로 뒤집기 구현 ---②\n",
    "st2 = time.time()\n",
    "mapy, mapx = np.indices((rows, cols),dtype=np.float32) # 매핑 배열 초기화 생성\n",
    "mapx = cols - mapx -1                                  # x축 좌표 뒤집기 연산\n",
    "mapy = rows - mapy -1                                  # y축 좌표 뒤집기 연산\n",
    "fliped2 = cv2.remap(img,mapx,mapy,cv2.INTER_LINEAR)  # remap 적용\n",
    "print('remap:', time.time()-st2)\n",
    "\n",
    "# 결과 출력 ---③\n",
    "cv2.imshow('origin', img)\n",
    "cv2.imshow('fliped1',fliped1)\n",
    "cv2.imshow('fliped2',fliped2)\n",
    "\n",
    "#cv2_imshow(img)\n",
    "#cv2_imshow(fliped1)\n",
    "#cv2_imshow(fliped2)\n",
    "\n",
    "cv2.waitKey()\n",
    "cv2.destroyAllWindows()\n",
    "\n",
    "#matrix가 더 빨리 실행이 된다."
   ]
  },
  {
   "cell_type": "code",
   "execution_count": 5,
   "metadata": {},
   "outputs": [
    {
     "name": "stdout",
     "output_type": "stream",
     "text": [
      "qt.qpa.plugin: Could not find the Qt platform plugin \"wayland\" in \"/home/somyeong/.local/lib/python3.10/site-packages/cv2/qt/plugins\"\n"
     ]
    }
   ],
   "source": [
    "!python3 remap_sin_cos.py"
   ]
  },
  {
   "cell_type": "code",
   "execution_count": 11,
   "metadata": {},
   "outputs": [],
   "source": [
    "import cv2\n",
    "import numpy as np\n",
    "\n",
    "l = 20      # 파장(wave length)\n",
    "amp = 15    # 진폭(amplitude)\n",
    "\n",
    "img = cv2.imread('../img/taekwonv1.jpg')\n",
    "rows, cols = img.shape[:2]\n",
    "\n",
    "# 초기 매핑 배열 생성 ---①\n",
    "mapy, mapx = np.indices((rows, cols),dtype=np.float32)\n",
    "\n",
    "# sin, cos 함수를 적용한 변형 매핑 연산 ---②\n",
    "sinx = mapx + amp * np.sin(mapy/l)\n",
    "cosy = mapy + amp * np.cos(mapx/l)\n",
    "\n",
    "# 영상 매핑 ---③\n",
    "#remap 적용\n",
    "img_sinx=cv2.remap(img, sinx, mapy, cv2.INTER_LINEAR) # x축만 sin 곡선 적용\n",
    "img_cosy=cv2.remap(img, mapx, cosy, cv2.INTER_LINEAR) # y축만 cos 곡선 적용\n",
    "# x,y 축 모두 sin, cos 곡선 적용 및 외곽 영역 보정\n",
    "img_both=cv2.remap(img, sinx, cosy, cv2.INTER_LINEAR, \\\n",
    "                    None, cv2.BORDER_REPLICATE)\n",
    "# 결과 출력\n",
    "cv2.imshow('origin', img)\n",
    "cv2.imshow('sin x', img_sinx)\n",
    "cv2.imshow('cos y', img_cosy)\n",
    "cv2.imshow('sin cos', img_both)\n",
    "\n",
    "#cv2_imshow(img)\n",
    "#cv2_imshow(img_sinx)\n",
    "#cv2_imshow(img_cosy)\n",
    "#cv2_imshow(img_both)\n",
    "\n",
    "cv2.waitKey()\n",
    "cv2.destroyAllWindows()"
   ]
  },
  {
   "cell_type": "markdown",
   "metadata": {},
   "source": [
    "### 5.3.2 오목 렌즈와 볼록 렌즈 왜곡"
   ]
  },
  {
   "cell_type": "code",
   "execution_count": 7,
   "metadata": {},
   "outputs": [
    {
     "name": "stdout",
     "output_type": "stream",
     "text": [
      "(444, 400, 3)\n",
      "qt.qpa.plugin: Could not find the Qt platform plugin \"wayland\" in \"/home/somyeong/.local/lib/python3.10/site-packages/cv2/qt/plugins\"\n"
     ]
    }
   ],
   "source": [
    "!python3 remap_lens.py"
   ]
  },
  {
   "cell_type": "code",
   "execution_count": 12,
   "metadata": {},
   "outputs": [
    {
     "name": "stdout",
     "output_type": "stream",
     "text": [
      "(444, 400, 3)\n"
     ]
    }
   ],
   "source": [
    "import cv2\n",
    "import numpy as np\n",
    "\n",
    "img = cv2.imread('../img/taekwonv1.jpg')\n",
    "print(img.shape)\n",
    "rows, cols = img.shape[:2]\n",
    "\n",
    "# ---① 설정 값 셋팅\n",
    "exp = 2       # 볼록, 오목 지수 (오목 : 0.1 ~ 1, 볼록 : 1.1~)\n",
    "scale = 1           # 변환 영역 크기 (0 ~ 1)\n",
    "\n",
    "# 매핑 배열 생성 ---②\n",
    "mapy, mapx = np.indices((rows, cols),dtype=np.float32)\n",
    "\n",
    "# 좌상단 기준좌표에서 -1~1로 정규화된 중심점 기준 좌표로 변경 ---③\n",
    "mapx = 2*mapx/(cols-1)-1\n",
    "mapy = 2*mapy/(rows-1)-1\n",
    "\n",
    "# 직교좌표를 극 좌표로 변환 ---④ \n",
    "#cartToPolar 이용해서 변환\n",
    "r, theta = cv2.cartToPolar(mapx, mapy)\n",
    "\n",
    "# 왜곡 영역만 중심확대/축소 지수 적용 ---⑤\n",
    "r[r< scale] = r[r<scale] **exp\n",
    "\n",
    "# 극 좌표를 직교좌표로 변환 ---⑥\n",
    "mapx, mapy = cv2.polarToCart(r, theta)\n",
    "\n",
    "# 중심점 기준에서 좌상단 기준으로 변경 ---⑦\n",
    "mapx = ((mapx + 1)*cols-1)/2\n",
    "mapy = ((mapy + 1)*rows-1)/2\n",
    "# 재매핑 변환\n",
    "distorted = cv2.remap(img,mapx,mapy,cv2.INTER_LINEAR)\n",
    "\n",
    "cv2.imshow('origin', img)\n",
    "cv2.imshow('distorted', distorted)\n",
    "\n",
    "#cv2_imshow(img)\n",
    "#cv2_imshow(distorted)\n",
    "\n",
    "cv2.waitKey()\n",
    "cv2.destroyAllWindows()"
   ]
  },
  {
   "cell_type": "markdown",
   "metadata": {},
   "source": [
    "### 5.3.3 방사 왜곡"
   ]
  },
  {
   "cell_type": "code",
   "execution_count": 9,
   "metadata": {},
   "outputs": [
    {
     "name": "stdout",
     "output_type": "stream",
     "text": [
      "qt.qpa.plugin: Could not find the Qt platform plugin \"wayland\" in \"/home/somyeong/.local/lib/python3.10/site-packages/cv2/qt/plugins\"\n"
     ]
    }
   ],
   "source": [
    "!python3 remap_barrel.py"
   ]
  },
  {
   "cell_type": "code",
   "execution_count": 13,
   "metadata": {},
   "outputs": [],
   "source": [
    "import cv2\n",
    "import numpy as np\n",
    "\n",
    "# 왜곡 계수 설정 ---①\n",
    "k1, k2, k3 = 0.5, 0.2, 0.0 # 배럴 왜곡\n",
    "#k1, k2, k3 = -0.3, 0, 0    # 핀큐션 왜곡\n",
    "\n",
    "img = cv2.imread('../img/girl.jpg')\n",
    "rows, cols = img.shape[:2]\n",
    "\n",
    "# 매핑 배열 생성 ---②\n",
    "mapy, mapx = np.indices((rows, cols),dtype=np.float32)\n",
    "\n",
    "# 중앙점 좌표로 -1~1 정규화 및 극좌표 변환 ---③\n",
    "mapx = 2*mapx/(cols-1)-1\n",
    "mapy = 2*mapy/(rows-1)-1\n",
    "r, theta = cv2.cartToPolar(mapx, mapy)\n",
    "\n",
    "#**방사 왜곡 공식**#\n",
    "# 방사 왜곡 변영 연산 ---④\n",
    "ru = r*(1+k1*(r**2) + k2*(r**4) + k3*(r**6))\n",
    "\n",
    "# 직교좌표 및 좌상단 기준으로 복원 ---⑤\n",
    "mapx, mapy = cv2.polarToCart(ru, theta)\n",
    "mapx = ((mapx + 1)*cols-1)/2\n",
    "mapy = ((mapy + 1)*rows-1)/2\n",
    "# 리매핑 ---⑥\n",
    "distored = cv2.remap(img,mapx,mapy,cv2.INTER_LINEAR)\n",
    "\n",
    "cv2.imshow('original', img)\n",
    "cv2.imshow('distorted', distored)\n",
    "\n",
    "#cv2_imshow(img)\n",
    "#cv2_imshow(distored)\n",
    "\n",
    "cv2.waitKey()\n",
    "cv2.destroyAllWindows()"
   ]
  },
  {
   "cell_type": "code",
   "execution_count": 11,
   "metadata": {},
   "outputs": [
    {
     "name": "stdout",
     "output_type": "stream",
     "text": [
      "qt.qpa.plugin: Could not find the Qt platform plugin \"wayland\" in \"/home/somyeong/.local/lib/python3.10/site-packages/cv2/qt/plugins\"\n"
     ]
    }
   ],
   "source": [
    "!python3 undistort_barrel.py"
   ]
  },
  {
   "cell_type": "code",
   "execution_count": 12,
   "metadata": {},
   "outputs": [],
   "source": [
    "import numpy as np\n",
    "import cv2\n",
    "\n",
    "# 격자 무늬 영상 생성 ---①\n",
    "img = np.full((300,400,3), 255, np.uint8)\n",
    "img[::10, :, :] = 0\n",
    "img[:, ::10, :] = 0\n",
    "width  = img.shape[1]\n",
    "height = img.shape[0]\n",
    "\n",
    "# 왜곡 계수 설정 ---②\n",
    "k1, k2, p1, p2 = 0.001, 0, 0, 0     # 배럴 왜곡\n",
    "#k1, k2, p1, p2 = -0.0005, 0, 0, 0  # 핀쿠션 왜곡\n",
    "distCoeff = np.float64([k1, k2, p1, p2])\n",
    "\n",
    "# 임의의 값으로 카메라 매트릭스 설정 ---③\n",
    "fx, fy = 10, 10\n",
    "cx, cy = width/2, height/2\n",
    "camMtx = np.float32([[fx,0, cx],\n",
    "                     [0, fy, cy],\n",
    "                     [0 ,0 ,1]])\n",
    "\n",
    "# 왜곡 변형 ---④\n",
    "dst = cv2.undistort(img,camMtx,distCoeff)\n",
    "\n",
    "cv2.imshow('original', img)\n",
    "cv2.imshow('dst',dst)\n",
    "\n",
    "#cv2_imshow(img)\n",
    "#cv2_imshow(dst)\n",
    "\n",
    "cv2.waitKey(0)\n",
    "cv2.destroyAllWindows()"
   ]
  },
  {
   "cell_type": "markdown",
   "metadata": {},
   "source": [
    "## 5.4 실전 워크숍"
   ]
  },
  {
   "cell_type": "markdown",
   "metadata": {},
   "source": [
    "### 5.4.1 모자이크 처리 1"
   ]
  },
  {
   "cell_type": "code",
   "execution_count": 3,
   "metadata": {},
   "outputs": [
    {
     "name": "stdout",
     "output_type": "stream",
     "text": [
      "Select a ROI and then press SPACE or ENTER button!\n",
      "Cancel the selection process by pressing c button!\n",
      "qt.qpa.plugin: Could not find the Qt platform plugin \"wayland\" in \"/home/somyeong/.local/lib/python3.10/site-packages/cv2/qt/plugins\"\n",
      "Select a ROI and then press SPACE or ENTER button!\n",
      "Cancel the selection process by pressing c button!\n"
     ]
    }
   ],
   "source": [
    "!python3 workshop_mosaic.py"
   ]
  },
  {
   "cell_type": "code",
   "execution_count": 17,
   "metadata": {},
   "outputs": [
    {
     "name": "stdout",
     "output_type": "stream",
     "text": [
      "Select a ROI and then press SPACE or ENTER button!\n",
      "Cancel the selection process by pressing c button!\n",
      "Select a ROI and then press SPACE or ENTER button!\n",
      "Cancel the selection process by pressing c button!\n"
     ]
    }
   ],
   "source": [
    "import cv2\n",
    "\n",
    "rate = 15               # 모자이크에 사용할 축소 비율 (1/rate)\n",
    "win_title = 'mosaic'    # 창 제목\n",
    "img = cv2.imread('../img/taekwonv1.jpg')    # 이미지 읽기\n",
    "\n",
    "while True:\n",
    "    x,y,w,h = cv2.selectROI(win_title, img, False) # 관심영역 선택\n",
    "    if w and h:\n",
    "        roi = img[y:y+h, x:x+w]   # 관심영역 지정\n",
    "        roi = cv2.resize(roi, (w//rate, h//rate)) # 1/rate 비율로 축소\n",
    "        # 원래 크기로 확대\n",
    "        roi = cv2.resize(roi, (w,h), interpolation=cv2.INTER_AREA)  \n",
    "        img[y:y+h, x:x+w] = roi   # 원본 이미지에 적용\n",
    "        cv2.imshow(win_title, img)\n",
    "    else:\n",
    "        break\n",
    "cv2.destroyAllWindows()"
   ]
  },
  {
   "cell_type": "markdown",
   "metadata": {},
   "source": [
    "### 5.4.2 포토샵 리퀴파이 도구"
   ]
  },
  {
   "cell_type": "code",
   "execution_count": 5,
   "metadata": {},
   "outputs": [
    {
     "name": "stdout",
     "output_type": "stream",
     "text": [
      "qt.qpa.plugin: Could not find the Qt platform plugin \"wayland\" in \"/home/somyeong/.local/lib/python3.10/site-packages/cv2/qt/plugins\"\n",
      "^C\n",
      "Traceback (most recent call last):\n",
      "  File \"/home/somyeong/Doosan_Robotics/Doosan-Robotics/AI(computer_vision)/open_cv/insightbook.opencv_project_python/05.geometric_transform/workshop_liquify_tool.py\", line 81, in <module>\n",
      "    key = cv2.waitKey(1)\n",
      "KeyboardInterrupt\n"
     ]
    }
   ],
   "source": [
    "!python3 workshop_liquify_tool.py"
   ]
  },
  {
   "cell_type": "code",
   "execution_count": 19,
   "metadata": {},
   "outputs": [
    {
     "ename": "",
     "evalue": "",
     "output_type": "error",
     "traceback": [
      "\u001b[1;31mThe Kernel crashed while executing code in the current cell or a previous cell. \n",
      "\u001b[1;31mPlease review the code in the cell(s) to identify a possible cause of the failure. \n",
      "\u001b[1;31mClick <a href='https://aka.ms/vscodeJupyterKernelCrash'>here</a> for more info. \n",
      "\u001b[1;31mView Jupyter <a href='command:jupyter.viewOutput'>log</a> for further details."
     ]
    }
   ],
   "source": [
    "import cv2\n",
    "import numpy as np\n",
    "\n",
    "win_title = 'Liquify'   # 창 이름\n",
    "half = 50               # 관심 영역 절반 크기\n",
    "isDragging = False      # 드래그 여부 플래그\n",
    "\n",
    "# 리퀴파이 함수\n",
    "def liquify(img, cx1,cy1, cx2,cy2) :\n",
    "    # 대상 영역 좌표와 크기 설정\n",
    "    x, y, w, h = cx1-half, cy1-half, half*2, half*2\n",
    "    # 관심 영역 설정\n",
    "    roi = img[y:y+h, x:x+w].copy()\n",
    "    out = roi.copy()\n",
    "\n",
    "    # 관심영역 기준으로 좌표 재 설정\n",
    "    offset_cx1,offset_cy1 = cx1-x, cy1-y\n",
    "    offset_cx2,offset_cy2 = cx2-x, cy2-y\n",
    "\n",
    "    # 변환 이전 4개의 삼각형 좌표\n",
    "    tri1 = [[ (0,0), (w, 0), (offset_cx1, offset_cy1)], # 상,top\n",
    "            [ [0,0], [0, h], [offset_cx1, offset_cy1]], # 좌,left\n",
    "            [ [w, 0], [offset_cx1, offset_cy1], [w, h]], # 우, right\n",
    "            [ [0, h], [offset_cx1, offset_cy1], [w, h]]] # 하, bottom\n",
    "\n",
    "    # 변환 이후 4개의 삼각형 좌표\n",
    "    tri2 = [[ [0,0], [w,0], [offset_cx2, offset_cy2]], # 상, top\n",
    "            [ [0,0], [0, h], [offset_cx2, offset_cy2]], # 좌, left\n",
    "            [ [w,0], [offset_cx2, offset_cy2], [w, h]], # 우, right\n",
    "            [ [0,h], [offset_cx2, offset_cy2], [w, h]]] # 하, bottom\n",
    "\n",
    "\n",
    "    for i in range(4):\n",
    "        # 각각의 삼각형 좌표에 대해 어핀 변환 적용\n",
    "        matrix = cv2.getAffineTransform( np.float32(tri1[i]), \\\n",
    "                                         np.float32(tri2[i]))\n",
    "        warped = cv2.warpAffine( roi.copy(), matrix, (w, h), \\\n",
    "            None, flags=cv2.INTER_LINEAR, borderMode=cv2.BORDER_REFLECT_101)\n",
    "        # 삼각형 모양의 마스크 생성\n",
    "        mask = np.zeros((h, w), dtype = np.uint8)\n",
    "        cv2.fillConvexPoly(mask, np.int32(tri2[i]), (255,255,255))\n",
    "\n",
    "        # 마스킹 후 합성\n",
    "        warped = cv2.bitwise_and(warped, warped, mask=mask)\n",
    "        out = cv2.bitwise_and(out, out, mask=cv2.bitwise_not(mask))\n",
    "        out = out + warped\n",
    "\n",
    "    # 관심 영역을 원본 영상에 합성\n",
    "    img[y:y+h, x:x+w] = out\n",
    "    return img\n",
    "\n",
    "# 마우스 이벤트 핸들 함수\n",
    "def onMouse(event,x,y,flags,param):\n",
    "    global cx1, cy1, isDragging, img      # 전역변수 참조\n",
    "    # 마우스 중심 점을 기준으로 대상 영역 따라다니기\n",
    "    if event == cv2.EVENT_MOUSEMOVE:\n",
    "        if not isDragging :\n",
    "            img_draw = img.copy()\n",
    "            # 드래그 영역 표시\n",
    "            cv2.rectangle(img_draw, (x-half, y-half), \\\n",
    "                    (x+half, y+half), (0,255,0))\n",
    "            cv2.imshow(win_title, img_draw) # 사각형 표시된 그림 화면 출력\n",
    "    elif event == cv2.EVENT_LBUTTONDOWN :\n",
    "        isDragging = True                   # 드래그 시작\n",
    "        cx1, cy1 = x, y                     # 드래그 시작된 원래의 위치 좌표 저장\n",
    "    elif event == cv2.EVENT_LBUTTONUP :\n",
    "        if isDragging:\n",
    "            isDragging = False              # 드래그 끝\n",
    "            # 드래그 시작 좌표와 끝난 좌표로 리퀴파이 적용 함수 호출\n",
    "            liquify(img, cx1, cy1, x, y)\n",
    "            cv2.imshow(win_title, img)\n",
    "\n",
    "if __name__ == '__main__' :\n",
    "    img = cv2.imread(\"../img/man_face.jpg\")\n",
    "    h, w = img.shape[:2]\n",
    "\n",
    "    cv2.namedWindow(win_title)\n",
    "    cv2.setMouseCallback(win_title, onMouse)\n",
    "    cv2.imshow(win_title, img)\n",
    "    #cv2_imshow(img)\n",
    "    while True:\n",
    "        key = cv2.waitKey(1)\n",
    "        if key & 0xFF == 27:\n",
    "            break\n",
    "    cv2.destroyAllWindows()"
   ]
  },
  {
   "cell_type": "markdown",
   "metadata": {},
   "source": [
    "### 5.4.3 왜곡 거울 카메라"
   ]
  },
  {
   "cell_type": "code",
   "execution_count": 12,
   "metadata": {},
   "outputs": [
    {
     "name": "stdout",
     "output_type": "stream",
     "text": [
      "(240, 320) (59868,)\n",
      "qt.qpa.plugin: Could not find the Qt platform plugin \"wayland\" in \"/home/somyeong/.local/lib/python3.10/site-packages/cv2/qt/plugins\"\n"
     ]
    }
   ],
   "source": [
    "!python3 workhop_distotion_camera.py"
   ]
  },
  {
   "cell_type": "code",
   "execution_count": 13,
   "metadata": {},
   "outputs": [
    {
     "name": "stdout",
     "output_type": "stream",
     "text": [
      "(240, 320) (59868,)\n"
     ]
    },
    {
     "name": "stderr",
     "output_type": "stream",
     "text": [
      "qt.qpa.plugin: Could not find the Qt platform plugin \"wayland\" in \"/home/somyeong/.local/lib/python3.10/site-packages/cv2/qt/plugins\"\n"
     ]
    }
   ],
   "source": [
    "import cv2\n",
    "import numpy as np\n",
    "\n",
    "cap = cv2.VideoCapture(0)\n",
    "cap.set(cv2.CAP_PROP_FRAME_WIDTH, 320)\n",
    "cap.set(cv2.CAP_PROP_FRAME_HEIGHT, 240)\n",
    "rows, cols = 240, 320\n",
    "map_y, map_x = np.indices((rows, cols), dtype=np.float32)\n",
    "\n",
    "# 거울 왜곡 효과\n",
    "map_mirrorh_x,map_mirrorh_y = map_x.copy(), map_y.copy()\n",
    "map_mirrorv_x,map_mirrorv_y = map_x.copy(), map_y.copy()\n",
    "## 좌우 대칭 거울 좌표 연산\n",
    "map_mirrorh_x[: , cols//2:] = cols - map_mirrorh_x[:, cols//2:]-1\n",
    "## 상하 대칭 거울 좌표 연산\n",
    "map_mirrorv_y[rows//2:, :] = rows - map_mirrorv_y[rows//2:, :]-1\n",
    "\n",
    "# 물결 효과\n",
    "map_wave_x, map_wave_y = map_x.copy(), map_y.copy()\n",
    "map_wave_x = map_wave_x + 15*np.sin(map_y/20)\n",
    "map_wave_y = map_wave_y + 15*np.sin(map_x/20)\n",
    "\n",
    "\n",
    "# 렌즈 효과\n",
    "## 렌즈 효과, 중심점 이동\n",
    "map_lenz_x = 2*map_x/(cols-1)-1\n",
    "map_lenz_y = 2*map_y/(rows-1)-1\n",
    "## 렌즈 효과, 극좌표 변환\n",
    "r, theta = cv2.cartToPolar(map_lenz_x, map_lenz_y)\n",
    "r_convex = r.copy()\n",
    "r_concave = r\n",
    "## 볼록 렌즈 효과 매핑 좌표 연산\n",
    "r_convex[r< 1] = r_convex[r<1] **2\n",
    "print(r.shape, r_convex[r<1].shape)\n",
    "## 오목 렌즈 효과 매핑 좌표 연산\n",
    "r_concave[r< 1] = r_concave[r<1] **0.5\n",
    "## 렌즈 효과, 직교 좌표 복원\n",
    "map_convex_x, map_convex_y = cv2.polarToCart(r_convex, theta)\n",
    "map_concave_x, map_concave_y = cv2.polarToCart(r_concave, theta)\n",
    "## 렌즈 효과, 좌상단 좌표 복원\n",
    "map_convex_x = ((map_convex_x + 1)*cols-1)/2\n",
    "map_convex_y = ((map_convex_y + 1)*rows-1)/2\n",
    "map_concave_x = ((map_concave_x + 1)*cols-1)/2\n",
    "map_concave_y = ((map_concave_y + 1)*rows-1)/2\n",
    "\n",
    "while True:\n",
    "    ret, frame = cap.read()\n",
    "    # 준비한 매핑 좌표로 영상 효과 적용\n",
    "    mirrorh=cv2.remap(frame,map_mirrorh_x,map_mirrorh_y,cv2.INTER_LINEAR)\n",
    "    mirrorv=cv2.remap(frame,map_mirrorv_x,map_mirrorv_y,cv2.INTER_LINEAR)\n",
    "    wave = cv2.remap(frame,map_wave_x,map_wave_y,cv2.INTER_LINEAR, \\\n",
    "                    None, cv2.BORDER_REPLICATE)\n",
    "    convex = cv2.remap(frame,map_convex_x,map_convex_y,cv2.INTER_LINEAR)\n",
    "    concave = cv2.remap(frame,map_concave_x,map_concave_y,cv2.INTER_LINEAR)\n",
    "    # 영상 합치기\n",
    "    r1 = np.hstack(( frame, mirrorh, mirrorv))\n",
    "    r2 = np.hstack(( wave, convex, concave))\n",
    "    merged = np.vstack((r1, r2))\n",
    "\n",
    "    cv2.imshow('distorted',merged)\n",
    "    #cv2_imshow(merged)\n",
    "    if cv2.waitKey(1) & 0xFF== 27:\n",
    "        break\n",
    "cap.release\n",
    "cv2.destroyAllWindows()"
   ]
  }
 ],
 "metadata": {
  "kernelspec": {
   "display_name": "Python 3",
   "language": "python",
   "name": "python3"
  },
  "language_info": {
   "codemirror_mode": {
    "name": "ipython",
    "version": 3
   },
   "file_extension": ".py",
   "mimetype": "text/x-python",
   "name": "python",
   "nbconvert_exporter": "python",
   "pygments_lexer": "ipython3",
   "version": "3.10.12"
  }
 },
 "nbformat": 4,
 "nbformat_minor": 2
}
