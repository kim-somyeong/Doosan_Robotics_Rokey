{
 "cells": [
  {
   "cell_type": "markdown",
   "metadata": {},
   "source": [
    "# Chapter 2. 기본 입출력"
   ]
  },
  {
   "cell_type": "code",
   "execution_count": 1,
   "metadata": {},
   "outputs": [
    {
     "data": {
      "text/plain": [
       "'4.10.0'"
      ]
     },
     "execution_count": 1,
     "metadata": {},
     "output_type": "execute_result"
    }
   ],
   "source": [
    "import cv2\n",
    "cv2.__version__"
   ]
  },
  {
   "cell_type": "code",
   "execution_count": 8,
   "metadata": {},
   "outputs": [
    {
     "name": "stdout",
     "output_type": "stream",
     "text": [
      "Cloning into 'insightbook.opencv_project_python'...\n",
      "remote: Enumerating objects: 469, done.\u001b[K\n",
      "remote: Counting objects: 100% (80/80), done.\u001b[K\n",
      "remote: Compressing objects: 100% (64/64), done.\u001b[K\n",
      "remote: Total 469 (delta 23), reused 38 (delta 16), pack-reused 389 (from 1)\u001b[K\n",
      "Receiving objects: 100% (469/469), 30.72 MiB | 5.68 MiB/s, done.\n",
      "Resolving deltas: 100% (39/39), done.\n"
     ]
    }
   ],
   "source": [
    "!git clone https://github.com/dltpdn/insightbook.opencv_project_python"
   ]
  },
  {
   "cell_type": "code",
   "execution_count": 2,
   "metadata": {},
   "outputs": [
    {
     "name": "stdout",
     "output_type": "stream",
     "text": [
      "/home/somyeong/Doosan_Robotics/Doosan-Robotics/AI(computer_vision)/open_cv/insightbook.opencv_project_python/02.interface\n"
     ]
    },
    {
     "name": "stderr",
     "output_type": "stream",
     "text": [
      "/home/somyeong/.local/lib/python3.10/site-packages/IPython/core/magics/osm.py:417: UserWarning: This is now an optional IPython functionality, setting dhist requires you to install the `pickleshare` library.\n",
      "  self.shell.db['dhist'] = compress_dhist(dhist)[-100:]\n"
     ]
    }
   ],
   "source": [
    "%cd /home/somyeong/Doosan_Robotics/Doosan-Robotics/AI(computer_vision)/open_cv/insightbook.opencv_project_python/02.interface"
   ]
  },
  {
   "cell_type": "markdown",
   "metadata": {},
   "source": [
    "## 2.1 이미지와 비디오 입출력"
   ]
  },
  {
   "cell_type": "markdown",
   "metadata": {},
   "source": [
    "### 2.1.1 이미지 읽기"
   ]
  },
  {
   "cell_type": "code",
   "execution_count": 6,
   "metadata": {},
   "outputs": [
    {
     "name": "stdout",
     "output_type": "stream",
     "text": [
      "qt.qpa.plugin: Could not find the Qt platform plugin \"wayland\" in \"/home/somyeong/.local/lib/python3.10/site-packages/cv2/qt/plugins\"\n"
     ]
    }
   ],
   "source": [
    "!python3 img_show.py"
   ]
  },
  {
   "cell_type": "code",
   "execution_count": 5,
   "metadata": {},
   "outputs": [],
   "source": [
    "#%%writefile img_show.py\n",
    "import cv2\n",
    "\n",
    "img_file = \"../img/girl.jpg\"   # 표시할 이미지 경로               --- ①\n",
    "img = cv2.imread(img_file)     # 이미지를 읽어서 img 변수에 할당  --- ②\n",
    "\n",
    "if img is not None:\n",
    "  #cv2.imshow('IMG', img)      # 읽은 이미지를 화면에 표시        --- ③\n",
    "  cv2.waitKey()                # 키가 입력될 때 까지 대기         --- ④\n",
    "  cv2.destroyAllWindows()      # 창 모두 닫기                     --- ⑤\n",
    "else:\n",
    "    print('No image file.')"
   ]
  },
  {
   "cell_type": "code",
   "execution_count": 7,
   "metadata": {},
   "outputs": [
    {
     "name": "stdout",
     "output_type": "stream",
     "text": [
      "qt.qpa.plugin: Could not find the Qt platform plugin \"wayland\" in \"/home/somyeong/.local/lib/python3.10/site-packages/cv2/qt/plugins\"\n"
     ]
    }
   ],
   "source": [
    "!python3 img_show_gray.py"
   ]
  },
  {
   "cell_type": "code",
   "execution_count": 24,
   "metadata": {},
   "outputs": [],
   "source": [
    "import cv2\n",
    "\n",
    "img_file= \"../img/girl.jpg\"\n",
    "img = cv2.imread(img_file, cv2.IMREAD_GRAYSCALE)     #read gray scale\n",
    "#img = cv2.imread(img_file, cv2.IMREAD_COLOR)        #read color scale\n",
    "#img = cv2.imread(img_file, cv2.IMREAD_UNCHANGED)    #read original, also alpha branding\n",
    "\n",
    "if img is not None:\n",
    "    cv2.imshow('IMG', img)\n",
    "    cv2.waitKey()\n",
    "    cv2.destroyAllWindows()\n",
    "else:\n",
    "    print('No image file.')"
   ]
  },
  {
   "cell_type": "markdown",
   "metadata": {},
   "source": [
    "### 2.1.2 이미지 저장하기"
   ]
  },
  {
   "cell_type": "code",
   "execution_count": 8,
   "metadata": {},
   "outputs": [
    {
     "name": "stdout",
     "output_type": "stream",
     "text": [
      "qt.qpa.plugin: Could not find the Qt platform plugin \"wayland\" in \"/home/somyeong/.local/lib/python3.10/site-packages/cv2/qt/plugins\"\n"
     ]
    }
   ],
   "source": [
    "!python3 img_write.py"
   ]
  },
  {
   "cell_type": "code",
   "execution_count": 16,
   "metadata": {},
   "outputs": [],
   "source": [
    "import cv2\n",
    "\n",
    "img_file = '../img/girl.jpg'\n",
    "save_file = '../img/girl_gray.jpg'\n",
    "\n",
    "img = cv2.imread(img_file, cv2.IMREAD_GRAYSCALE)\n",
    "cv2.imshow(img_file, img)\n",
    "\n",
    "cv2.imwrite(save_file, img)      #파일로 저장, 포맷은 확장에 따름\n",
    "# 이미지 저장 (JPEG 품질 90)\n",
    "#cv2.imwrite('output_quality90.jpg', img, [cv2.IMWRITE_JPEG_QUALITY, 90])\n",
    "# 이미지 저장 (PNG 압축률 5)\n",
    "#cv2.imwrite('output_compressed.png', img, [cv2.IMWRITE_PNG_COMPRESSION, 5])\n",
    "\n",
    "cv2.waitKey()\n",
    "cv2.destroyAllWindows()"
   ]
  },
  {
   "cell_type": "markdown",
   "metadata": {},
   "source": [
    "### 2.1.3 동영상 및 카메라 프레임 읽기"
   ]
  },
  {
   "cell_type": "code",
   "execution_count": 17,
   "metadata": {},
   "outputs": [],
   "source": [
    "# cv2.VideoCapture(source, apiPreference)"
   ]
  },
  {
   "cell_type": "markdown",
   "metadata": {},
   "source": [
    "### 2.1.4 동영상 파일 읽기"
   ]
  },
  {
   "cell_type": "code",
   "execution_count": 9,
   "metadata": {},
   "outputs": [
    {
     "ename": "error",
     "evalue": "OpenCV(4.10.0) :-1: error: (-5:Bad argument) in function 'imshow'\n> Overload resolution failed:\n>  - imshow() missing required argument 'mat' (pos 2)\n>  - imshow() missing required argument 'mat' (pos 2)\n>  - imshow() missing required argument 'mat' (pos 2)\n",
     "output_type": "error",
     "traceback": [
      "\u001b[0;31m---------------------------------------------------------------------------\u001b[0m",
      "\u001b[0;31merror\u001b[0m                                     Traceback (most recent call last)",
      "Cell \u001b[0;32mIn[9], line 23\u001b[0m\n\u001b[1;32m     21\u001b[0m \u001b[38;5;66;03m#as you read\u001b[39;00m\n\u001b[1;32m     22\u001b[0m clear_output(wait \u001b[38;5;241m=\u001b[39m \u001b[38;5;28;01mTrue\u001b[39;00m)\n\u001b[0;32m---> 23\u001b[0m \u001b[43mcv2\u001b[49m\u001b[38;5;241;43m.\u001b[39;49m\u001b[43mimshow\u001b[49m\u001b[43m(\u001b[49m\u001b[43mframe\u001b[49m\u001b[43m)\u001b[49m\n\u001b[1;32m     24\u001b[0m \u001b[38;5;66;03m#delay time to update frame\u001b[39;00m\n\u001b[1;32m     25\u001b[0m \u001b[38;5;66;03m#time.sleep(1.1)\u001b[39;00m\n\u001b[1;32m     26\u001b[0m time\u001b[38;5;241m.\u001b[39msleep(\u001b[38;5;241m0.1\u001b[39m)\n",
      "\u001b[0;31merror\u001b[0m: OpenCV(4.10.0) :-1: error: (-5:Bad argument) in function 'imshow'\n> Overload resolution failed:\n>  - imshow() missing required argument 'mat' (pos 2)\n>  - imshow() missing required argument 'mat' (pos 2)\n>  - imshow() missing required argument 'mat' (pos 2)\n"
     ]
    }
   ],
   "source": [
    "import cv2\n",
    "from IPython.display import clear_output, Image\n",
    "import time\n",
    "\n",
    "cap = cv2.VideoCapture('../img/big_buck.avi')\n",
    "\n",
    "while cap.isOpened():\n",
    "    ok, frame = cap.read()\n",
    "\n",
    "    if not ok:\n",
    "        break\n",
    "\n",
    "    if ok:\n",
    "        #edit your video size here, to adjust the performance\n",
    "        largura = frame.shape[1]\n",
    "        altura = frame.shape[0]\n",
    "        lamenor = int(frame.shape[1]/5)\n",
    "        altmenor = int(frame.shape[0]/5)\n",
    "        frame = cv2.resize(frame, (lamenor, altmenor))\n",
    "\n",
    "        #as you read\n",
    "        clear_output(wait = True)\n",
    "        cv2.imshow(frame)\n",
    "        #delay time to update frame\n",
    "        #time.sleep(1.1)\n",
    "        time.sleep(0.1)\n",
    "\n",
    "    if cv2.waitKey(1100) & 0xFF == ord('q'):\n",
    "        break\n",
    "\n",
    "cap.release()\n",
    "cv2.destroyAllWindows()"
   ]
  },
  {
   "cell_type": "code",
   "execution_count": 10,
   "metadata": {},
   "outputs": [
    {
     "name": "stdout",
     "output_type": "stream",
     "text": [
      "qt.qpa.plugin: Could not find the Qt platform plugin \"wayland\" in \"/home/somyeong/.local/lib/python3.10/site-packages/cv2/qt/plugins\"\n"
     ]
    }
   ],
   "source": [
    "!python3 video_play.py"
   ]
  },
  {
   "cell_type": "code",
   "execution_count": null,
   "metadata": {},
   "outputs": [
    {
     "name": "stdout",
     "output_type": "stream",
     "text": [
      "can't open video\n"
     ]
    },
    {
     "ename": "AttributeError",
     "evalue": "'cv2.VideoCapture' object has no attribute 'destroyAllWindows'",
     "output_type": "error",
     "traceback": [
      "\u001b[0;31m---------------------------------------------------------------------------\u001b[0m",
      "\u001b[0;31mAttributeError\u001b[0m                            Traceback (most recent call last)",
      "Cell \u001b[0;32mIn[8], line 25\u001b[0m\n\u001b[1;32m     23\u001b[0m     \u001b[38;5;28mprint\u001b[39m(\u001b[38;5;124m\"\u001b[39m\u001b[38;5;124mcan\u001b[39m\u001b[38;5;124m'\u001b[39m\u001b[38;5;124mt open video\u001b[39m\u001b[38;5;124m\"\u001b[39m)\n\u001b[1;32m     24\u001b[0m cap\u001b[38;5;241m.\u001b[39mrelease()\n\u001b[0;32m---> 25\u001b[0m \u001b[43mcap\u001b[49m\u001b[38;5;241;43m.\u001b[39;49m\u001b[43mdestroyAllWindows\u001b[49m()\n",
      "\u001b[0;31mAttributeError\u001b[0m: 'cv2.VideoCapture' object has no attribute 'destroyAllWindows'"
     ]
    }
   ],
   "source": [
    "from IPython.display import clear_output, Image\n",
    "import cv2\n",
    "\n",
    "video_file = \"../img/big_buck.avi\"         # 동영상 파일 경로\n",
    "\n",
    "cap = cv2.VideoCapture(video_file)         # 동영상 캡쳐 객체 생성  ---①\n",
    "if cap.isOpened():                         # 캡쳐 객체 초기화 확인\n",
    "    cnt = 0\n",
    "    while True:\n",
    "        ret, img = cap.read()              # 다음 프레임 읽기      --- ②\n",
    "        if ret:                            # 프레임 읽기 정상\n",
    "            clear_output(wait=True)\n",
    "            cv2.imshow(video_file, img)   # 화면에 표시  --- ③\n",
    "            #cv2_imshow(img)                # 화면에 표시  --- ③\n",
    "            cv2.waitKey(25)                # 25ms 지연(40fps로 가정)   --- ④\n",
    "            cnt += 1\n",
    "            if cnt == 10:\n",
    "                break\n",
    "        else:                              # 다음 프레임 읽을 수 없슴,\n",
    "            break                          # 재생 완료\n",
    "else:\n",
    "    print(\"can't open video.\")             # 캡쳐 객체 초기화 실패\n",
    "cap.release()                              # 캡쳐 자원 반납\n",
    "cv2.destroyAllWindows()"
   ]
  },
  {
   "cell_type": "markdown",
   "metadata": {},
   "source": [
    "### 2.1.5 카메라(웹캠) 프레임 읽기"
   ]
  },
  {
   "cell_type": "code",
   "execution_count": 11,
   "metadata": {},
   "outputs": [
    {
     "name": "stdout",
     "output_type": "stream",
     "text": [
      "qt.qpa.plugin: Could not find the Qt platform plugin \"wayland\" in \"/home/somyeong/.local/lib/python3.10/site-packages/cv2/qt/plugins\"\n"
     ]
    }
   ],
   "source": [
    "!python3 video_cam.py"
   ]
  },
  {
   "cell_type": "code",
   "execution_count": null,
   "metadata": {},
   "outputs": [
    {
     "name": "stderr",
     "output_type": "stream",
     "text": [
      "qt.qpa.plugin: Could not find the Qt platform plugin \"wayland\" in \"/home/somyeong/.local/lib/python3.10/site-packages/cv2/qt/plugins\"\n"
     ]
    },
    {
     "ename": "KeyboardInterrupt",
     "evalue": "",
     "output_type": "error",
     "traceback": [
      "\u001b[0;31m---------------------------------------------------------------------------\u001b[0m",
      "\u001b[0;31mKeyboardInterrupt\u001b[0m                         Traceback (most recent call last)",
      "Cell \u001b[0;32mIn[9], line 6\u001b[0m\n\u001b[1;32m      4\u001b[0m \u001b[38;5;28;01mif\u001b[39;00m cap\u001b[38;5;241m.\u001b[39misOpened():\n\u001b[1;32m      5\u001b[0m     \u001b[38;5;28;01mwhile\u001b[39;00m \u001b[38;5;28;01mTrue\u001b[39;00m:\n\u001b[0;32m----> 6\u001b[0m         ret, img \u001b[38;5;241m=\u001b[39m \u001b[43mcap\u001b[49m\u001b[38;5;241;43m.\u001b[39;49m\u001b[43mread\u001b[49m\u001b[43m(\u001b[49m\u001b[43m)\u001b[49m\n\u001b[1;32m      7\u001b[0m         \u001b[38;5;28;01mif\u001b[39;00m ret:\n\u001b[1;32m      8\u001b[0m             cv2\u001b[38;5;241m.\u001b[39mimshow(\u001b[38;5;124m'\u001b[39m\u001b[38;5;124mcamera\u001b[39m\u001b[38;5;124m'\u001b[39m, img)  \u001b[38;5;66;03m#다음 프레임 읽기\u001b[39;00m\n",
      "\u001b[0;31mKeyboardInterrupt\u001b[0m: "
     ]
    },
    {
     "ename": "",
     "evalue": "",
     "output_type": "error",
     "traceback": [
      "\u001b[1;31mThe Kernel crashed while executing code in the current cell or a previous cell. \n",
      "\u001b[1;31mPlease review the code in the cell(s) to identify a possible cause of the failure. \n",
      "\u001b[1;31mClick <a href='https://aka.ms/vscodeJupyterKernelCrash'>here</a> for more info. \n",
      "\u001b[1;31mView Jupyter <a href='command:jupyter.viewOutput'>log</a> for further details."
     ]
    }
   ],
   "source": [
    "import cv2\n",
    "\n",
    "cap = cv2.VideoCapture(0)               # 0번 카메라 장치 연결 ---①\n",
    "if cap.isOpened():                      # 캡쳐 객체 연결 확인\n",
    "    while True:\n",
    "        ret, img = cap.read()           # 다음 프레임 읽기\n",
    "        if ret:\n",
    "            cv2.imshow('camera', img)   # 다음 프레임 이미지 표시\n",
    "            if cv2.waitKey(1) != -1:    # 1ms 동안 키 입력 대기 ---②\n",
    "                break                   # 아무 키라도 입력이 있으면 중지\n",
    "        else:\n",
    "            print('no frame')\n",
    "            break\n",
    "else:\n",
    "    print(\"can't open camera.\")\n",
    "cap.release()                           # 자원 반납\n",
    "cv2.destroyAllWindows()"
   ]
  },
  {
   "cell_type": "code",
   "execution_count": null,
   "metadata": {},
   "outputs": [
    {
     "name": "stdout",
     "output_type": "stream",
     "text": [
      "/bin/bash: line 1: python: command not found\n"
     ]
    }
   ],
   "source": [
    "!python3 video_camp_resize.py"
   ]
  },
  {
   "cell_type": "code",
   "execution_count": null,
   "metadata": {},
   "outputs": [
    {
     "name": "stdout",
     "output_type": "stream",
     "text": [
      "Original width : 640, height : 480\n"
     ]
    }
   ],
   "source": [
    "import cv2\n",
    "\n",
    "cap = cv2.VideoCapture(0)\n",
    "width = cap.get(cv2.CAP_PROP_FRAME_WIDTH)\n",
    "height = cap.get(cv2.CAP_PROP_FRAME_HEIGHT)\n",
    "print(\"Original width : %d, height : %d\" % (width, height))\n",
    "if cap.isOpened():\n",
    "    while True:\n",
    "        ret, img = cap.read()\n",
    "        if ret:\n",
    "            cv2.imshow('camera', img)\n",
    "            if cv2.waitKey(1) != -1:\n",
    "                break\n",
    "        else:\n",
    "            print(\"no frame!\")\n",
    "\n",
    "else:\n",
    "    print(\"can't open camera!\")\n",
    "\n",
    "cap.release()\n",
    "cv2.destroyAllWindows()"
   ]
  },
  {
   "cell_type": "markdown",
   "metadata": {},
   "source": [
    "### 2.1.6 카메라 비디오 속성 제어"
   ]
  },
  {
   "cell_type": "code",
   "execution_count": 12,
   "metadata": {},
   "outputs": [
    {
     "name": "stdout",
     "output_type": "stream",
     "text": [
      "FPS: 24.000000, Delay: 41ms\n",
      "qt.qpa.plugin: Could not find the Qt platform plugin \"wayland\" in \"/home/somyeong/.local/lib/python3.10/site-packages/cv2/qt/plugins\"\n"
     ]
    }
   ],
   "source": [
    "!python3 video_play_fps.py"
   ]
  },
  {
   "cell_type": "code",
   "execution_count": null,
   "metadata": {},
   "outputs": [],
   "source": [
    "import cv2\n",
    "\n",
    "video_file = \"../img/big_buck.avi\" # 동영상 파일 경로\n",
    "\n",
    "cap = cv2.VideoCapture(video_file) # 동영상 캡쳐 객체 생성\n",
    "if cap.isOpened():                 # 캡쳐 객체 초기화 확인\n",
    "    fps = cap.get(cv2.CAP_PROP_FPS) # 프레임 수 구하기\n",
    "    delay = int(1000/fps)\n",
    "    print(\"FPS: %f, Delay: %dms\" %(fps, delay))\n",
    "\n",
    "    while True:\n",
    "        ret, img = cap.read()      # 다음 프레임 읽기\n",
    "        if ret:                     # 프레임 읽기 정상\n",
    "            clear_output(wait=True)\n",
    "            cv2.imshow(video_file, img) # 화면에 표시\n",
    "            cv2.waitKey(delay)            # fps에 맞게 시간 지연\n",
    "        else:\n",
    "            break                   # 다음 프레임 읽을 수 없슴, 재생 완료\n",
    "else:\n",
    "    print(\"can't open video.\")      # 캡쳐 객체 초기화 실패\n",
    "cap.release()                       # 캡쳐 자원 반납\n",
    "cv2.destroyAllWindows()"
   ]
  },
  {
   "cell_type": "code",
   "execution_count": 13,
   "metadata": {},
   "outputs": [
    {
     "name": "stdout",
     "output_type": "stream",
     "text": [
      "Original width: 640, height:480\n",
      "Resized width: 320, height:240\n",
      "qt.qpa.plugin: Could not find the Qt platform plugin \"wayland\" in \"/home/somyeong/.local/lib/python3.10/site-packages/cv2/qt/plugins\"\n"
     ]
    }
   ],
   "source": [
    "!python3 video_cam_resize.py"
   ]
  },
  {
   "cell_type": "code",
   "execution_count": null,
   "metadata": {},
   "outputs": [],
   "source": [
    "import cv2\n",
    "\n",
    "cap = cv2.VideoCapture(0)                   # 카메라 0번 장치 연결\n",
    "width = cap.get(cv2.CAP_PROP_FRAME_WIDTH)   # 프레임 폭 값 구하기\n",
    "height = cap.get(cv2.CAP_PROP_FRAME_HEIGHT) # 프레임 높이 값 구하기\n",
    "print(\"Original width: %d, height:%d\" % (width, height) )\n",
    "\n",
    "cap.set(cv2.CAP_PROP_FRAME_WIDTH, 320)      # 프레임 폭을 320으로 설정\n",
    "cap.set(cv2.CAP_PROP_FRAME_HEIGHT, 240)     # 프레임 높이를 240으로 설정\n",
    "width = cap.get(cv2.CAP_PROP_FRAME_WIDTH)   # 재지정한 프레임 폭 값 구하기\n",
    "height = cap.get(cv2.CAP_PROP_FRAME_HEIGHT) # 재지정한 프레임 폭 값 구하기\n",
    "\n",
    "print(\"Resized width: %d, height:%d\" % (width, height) )\n",
    "if cap.isOpened():\n",
    "    while True:\n",
    "        ret, img = cap.read()\n",
    "        if ret:\n",
    "            #cv2.imshow('camera', img)\n",
    "            cv2_imshow(img)\n",
    "            if cv2.waitKey(1) != -1:\n",
    "                break\n",
    "        else:\n",
    "            print('no frame!')\n",
    "            break\n",
    "else:\n",
    "    print(\"can't open camera!\")\n",
    "cap.release()\n",
    "cv2.destroyAllWindows()"
   ]
  },
  {
   "cell_type": "markdown",
   "metadata": {},
   "source": [
    "### 2.1.7 비디오 파일 저장하기"
   ]
  },
  {
   "cell_type": "code",
   "execution_count": 14,
   "metadata": {},
   "outputs": [
    {
     "name": "stdout",
     "output_type": "stream",
     "text": [
      "qt.qpa.plugin: Could not find the Qt platform plugin \"wayland\" in \"/home/somyeong/.local/lib/python3.10/site-packages/cv2/qt/plugins\"\n"
     ]
    }
   ],
   "source": [
    "!python3 video_cam_take_pic.py"
   ]
  },
  {
   "cell_type": "code",
   "execution_count": null,
   "metadata": {},
   "outputs": [
    {
     "ename": "KeyboardInterrupt",
     "evalue": "",
     "output_type": "error",
     "traceback": [
      "\u001b[0;31m---------------------------------------------------------------------------\u001b[0m",
      "\u001b[0;31mKeyboardInterrupt\u001b[0m                         Traceback (most recent call last)",
      "Cell \u001b[0;32mIn[5], line 6\u001b[0m\n\u001b[1;32m      4\u001b[0m \u001b[38;5;28;01mif\u001b[39;00m cap\u001b[38;5;241m.\u001b[39misOpened():\n\u001b[1;32m      5\u001b[0m     \u001b[38;5;28;01mwhile\u001b[39;00m \u001b[38;5;28;01mTrue\u001b[39;00m:\n\u001b[0;32m----> 6\u001b[0m         ref, frame \u001b[38;5;241m=\u001b[39m \u001b[43mcap\u001b[49m\u001b[38;5;241;43m.\u001b[39;49m\u001b[43mread\u001b[49m\u001b[43m(\u001b[49m\u001b[43m)\u001b[49m\n\u001b[1;32m      7\u001b[0m         \u001b[38;5;28;01mif\u001b[39;00m ret:\n\u001b[1;32m      8\u001b[0m             cv2\u001b[38;5;241m.\u001b[39mimshow(\u001b[38;5;124m'\u001b[39m\u001b[38;5;124mcamera\u001b[39m\u001b[38;5;124m'\u001b[39m, frame)\n",
      "\u001b[0;31mKeyboardInterrupt\u001b[0m: "
     ]
    },
    {
     "ename": "",
     "evalue": "",
     "output_type": "error",
     "traceback": [
      "\u001b[1;31mThe Kernel crashed while executing code in the current cell or a previous cell. \n",
      "\u001b[1;31mPlease review the code in the cell(s) to identify a possible cause of the failure. \n",
      "\u001b[1;31mClick <a href='https://aka.ms/vscodeJupyterKernelCrash'>here</a> for more info. \n",
      "\u001b[1;31mView Jupyter <a href='command:jupyter.viewOutput'>log</a> for further details."
     ]
    }
   ],
   "source": [
    "import cv2\n",
    "\n",
    "cap = cv2.VideoCapture(0)                       # 0번 카메라 연결\n",
    "if cap.isOpened() :\n",
    "    while True:\n",
    "        ret, frame = cap.read()                 # 카메라 프레임 읽기\n",
    "        if ret:\n",
    "            cv2.imshow('camera',frame)         # 프레임 화면에 표시\n",
    "            #cv2_imshow(frame)                   # 프레임 화면에 표시\n",
    "            if cv2.waitKey(1) != -1:            # 아무 키나 누르면\n",
    "                cv2.imwrite('photo.jpg', frame) # 프레임을 'photo.jpg'에 저장\n",
    "                break\n",
    "        else:\n",
    "            print('no frame!')\n",
    "            break\n",
    "else:\n",
    "    print('no camera!')\n",
    "cap.release()\n",
    "cv2.destroyAllWindows()"
   ]
  },
  {
   "cell_type": "code",
   "execution_count": 15,
   "metadata": {},
   "outputs": [
    {
     "name": "stdout",
     "output_type": "stream",
     "text": [
      "qt.qpa.plugin: Could not find the Qt platform plugin \"wayland\" in \"/home/somyeong/.local/lib/python3.10/site-packages/cv2/qt/plugins\"\n"
     ]
    }
   ],
   "source": [
    "!python3 video_cam_rec.py"
   ]
  },
  {
   "cell_type": "code",
   "execution_count": null,
   "metadata": {},
   "outputs": [],
   "source": [
    "import cv2\n",
    "\n",
    "cap = cv2.VideoCapture(0)    # 0번 카메라 연결\n",
    "if cap.isOpened:\n",
    "    file_path = './record.avi'    # 저장할 파일 경로 이름 ---①\n",
    "    fps = 30.0                     # FPS, 초당 프레임 수\n",
    "    fourcc = cv2.VideoWriter_fourcc(*'DIVX') # 인코딩 포맷 문자\n",
    "    width = cap.get(cv2.CAP_PROP_FRAME_WIDTH)\n",
    "    height = cap.get(cv2.CAP_PROP_FRAME_HEIGHT)\n",
    "    size = (int(width), int(height))                        # 프레임 크기\n",
    "    out = cv2.VideoWriter(file_path, fourcc, fps, size) # VideoWriter 객체 생성\n",
    "    while True:\n",
    "        ret, frame = cap.read()\n",
    "        if ret:\n",
    "            cv2.imshow('camera-recording',frame)\n",
    "            #cv2_imshow(frame)\n",
    "            out.write(frame)                        # 파일 저장\n",
    "            if cv2.waitKey(int(1000/fps)) != -1:\n",
    "                break\n",
    "        else:\n",
    "            print(\"no frame!\")\n",
    "            break\n",
    "    out.release()                                   # 파일 닫기\n",
    "else:\n",
    "    print(\"can't open camera!\")\n",
    "cap.release()\n",
    "cv2.destroyAllWindows()"
   ]
  },
  {
   "cell_type": "markdown",
   "metadata": {},
   "source": [
    "## 2.2 그림 그리기"
   ]
  },
  {
   "cell_type": "code",
   "execution_count": null,
   "metadata": {},
   "outputs": [],
   "source": [
    "import cv2\n",
    "import numpy as np\n",
    "\n",
    "#img = np.full((500,500,3), 255, dtype=np.uint8)\n",
    "img = np.full((500,500,3), 0, dtype=np.uint8)\n",
    "#cv2.imwrite('./img/blank_500.jpg', img)\n",
    "cv2.imwrite('./img/blank_000.jpg', img)"
   ]
  },
  {
   "cell_type": "markdown",
   "metadata": {},
   "source": [
    "### 2.2.1 직선 그리기"
   ]
  },
  {
   "cell_type": "code",
   "execution_count": 16,
   "metadata": {},
   "outputs": [
    {
     "name": "stdout",
     "output_type": "stream",
     "text": [
      "python3: can't open file '/home/somyeong/Doosan_Robotics/Doosan-Robotics/AI(computer_vision)/open_cv/insightbook.opencv_project_python/02.interface/line.py': [Errno 2] No such file or directory\n"
     ]
    }
   ],
   "source": [
    "!python3 line.py"
   ]
  },
  {
   "cell_type": "code",
   "execution_count": 17,
   "metadata": {},
   "outputs": [
    {
     "name": "stderr",
     "output_type": "stream",
     "text": [
      "qt.qpa.plugin: Could not find the Qt platform plugin \"wayland\" in \"/home/somyeong/.local/lib/python3.10/site-packages/cv2/qt/plugins\"\n"
     ]
    }
   ],
   "source": [
    "import cv2\n",
    "\n",
    "img = cv2.imread('../img/blank_500.jpg')\n",
    "\n",
    "cv2.line(img, (50, 50), (150, 50), (255, 0,0))   #blue 1 pixel, start, end, color\n",
    "cv2.line(img, (200, 50), (300, 50), (0, 255, 0)) #green 1 pixel\n",
    "cv2.line(img, (350, 50), (450, 50), (0, 0, 255)) #red 1 pixel\n",
    "\n",
    "#sky (blue + green) 10 pixel line\n",
    "cv2.line(img, (100, 100), (400, 100), (255, 255, 0), 10)\n",
    "#pink (blue + red) 10 pixel line\n",
    "cv2.line(img, (100, 150), (400, 150), (255, 0, 255), 10)\n",
    "#yellow (green + red) 10 pixel line\n",
    "cv2.line(img, (100, 200), (400, 200), (0, 255, 255), 10)\n",
    "# gray (blue + green + red) 10 pixel line\n",
    "cv2.line(img, (100, 250), (400, 250), (200,200,200), 10)\n",
    "# black 10 pixel line\n",
    "cv2.line(img, (100, 300), (400, 300), (0,0,0), 10)\n",
    "\n",
    "# 4연결 선\n",
    "cv2.line(img, (100, 350), (400, 400), (0,0,255), 20, cv2.LINE_4)\n",
    "# 8연결 선\n",
    "cv2.line(img, (100, 400), (400, 450), (0,0,255), 20, cv2.LINE_8)\n",
    "# 안티에일리어싱 선\n",
    "cv2.line(img, (100, 450), (400, 500), (0,0,255), 20, cv2.LINE_AA)\n",
    "# 이미지 전체에 대각선\n",
    "cv2.line(img, (0,0), (500,500), (0,0,255))\n",
    "\n",
    "cv2.imshow('lines', img)\n",
    "#cv2_imshow(img)\n",
    "cv2.waitKey(0)\n",
    "cv2.destroyAllWindows()"
   ]
  },
  {
   "cell_type": "markdown",
   "metadata": {},
   "source": [
    "### 2.2.2 사각형 그리기"
   ]
  },
  {
   "cell_type": "code",
   "execution_count": 18,
   "metadata": {},
   "outputs": [
    {
     "name": "stdout",
     "output_type": "stream",
     "text": [
      "qt.qpa.plugin: Could not find the Qt platform plugin \"wayland\" in \"/home/somyeong/.local/lib/python3.10/site-packages/cv2/qt/plugins\"\n"
     ]
    }
   ],
   "source": [
    "!python3 draw_rect.py"
   ]
  },
  {
   "cell_type": "code",
   "execution_count": null,
   "metadata": {},
   "outputs": [],
   "source": [
    "import cv2\n",
    "\n",
    "img = cv2.imread('../img/blank_500.jpg')\n",
    "\n",
    "# 좌상, 우하 좌표로 사각형 그리기\n",
    "cv2.rectangle(img, (50, 50), (150, 150), (255,0,0) )    #(255,0,0)-> (B, G, R) => Blue\n",
    "# 우하, 좌상 좌표로 사각형 그리기\n",
    "cv2.rectangle(img, (300, 300), (100, 100), (0,255,0), 10 )\n",
    "# 우상, 좌하 좌표로 사각형 채워 그리기 ---①\n",
    "cv2.rectangle(img, (450, 200), (200, 450), (0,0,255), -1 )\n",
    "\n",
    "cv2.imshow('rectangle', img)\n",
    "#cv2_imshow(img)\n",
    "cv2.waitKey(0)\n",
    "cv2.destroyAllWindows()"
   ]
  },
  {
   "cell_type": "markdown",
   "metadata": {},
   "source": [
    "### 2.2.3 다각형 그리기"
   ]
  },
  {
   "cell_type": "code",
   "execution_count": 19,
   "metadata": {},
   "outputs": [
    {
     "name": "stdout",
     "output_type": "stream",
     "text": [
      "qt.qpa.plugin: Could not find the Qt platform plugin \"wayland\" in \"/home/somyeong/.local/lib/python3.10/site-packages/cv2/qt/plugins\"\n"
     ]
    }
   ],
   "source": [
    "!python3 draw_poly.py"
   ]
  },
  {
   "cell_type": "code",
   "execution_count": null,
   "metadata": {},
   "outputs": [],
   "source": [
    "import cv2\n",
    "import numpy as np                          # 좌표 표현을 위한 numpy 모듈  ---①\n",
    "\n",
    "img = cv2.imread('../img/blank_500.jpg')\n",
    "\n",
    "# Numpy array로 좌표 생성 ---②\n",
    "# 번개 모양 선 좌표\n",
    "pts1 = np.array([[50,50], [150,150], [100,140],[200,240]], dtype=np.int32)\n",
    "# 삼각형 좌표\n",
    "pts2 = np.array([[350,50], [250,200], [450,200]], dtype=np.int32)\n",
    "# 삼각형 좌표\n",
    "pts3 = np.array([[150,300], [50,450], [250,450]], dtype=np.int32)\n",
    "# 5각형 좌표\n",
    "pts4 = np.array([[350,250], [450,350], [400,450], [300,450], [250,350]],\\\n",
    "                 dtype=np.int32)\n",
    "\n",
    "# 다각형 그리기 ---③\n",
    "cv2.polylines(img, [pts1], False, (255,0,0))       # 번개 모양 선 그리기\n",
    "cv2.polylines(img, [pts2], False, (0,0,0), 10)     # 3각형 열린 선 그리기 ---④\n",
    "cv2.polylines(img, [pts3], True, (0,0,255), 10)    # 3각형 닫힌 도형 그리기 ---⑤\n",
    "cv2.polylines(img, [pts4], True, (0,0,0))          # 5각형 닫힌 도형 그리기\n",
    "\n",
    "cv2.imshow('polyline', img)\n",
    "#cv2_imshow(img)\n",
    "cv2.waitKey(0)\n",
    "cv2.destroyAllWindows()"
   ]
  },
  {
   "cell_type": "markdown",
   "metadata": {},
   "source": [
    "### 2.2.4 원, 타원 호 그리기"
   ]
  },
  {
   "cell_type": "code",
   "execution_count": 21,
   "metadata": {},
   "outputs": [
    {
     "name": "stdout",
     "output_type": "stream",
     "text": [
      "qt.qpa.plugin: Could not find the Qt platform plugin \"wayland\" in \"/home/somyeong/.local/lib/python3.10/site-packages/cv2/qt/plugins\"\n"
     ]
    }
   ],
   "source": [
    "!python3 draw_circle.py"
   ]
  },
  {
   "cell_type": "code",
   "execution_count": null,
   "metadata": {},
   "outputs": [],
   "source": [
    "import cv2\n",
    "\n",
    "img = cv2.imread('../img/blank_500.jpg')\n",
    "\n",
    "# 원점(150,150), 반지름 100 ---①\n",
    "cv2.circle(img, (150, 150), 100, (255,0,0))\n",
    "# 원점(300,150), 반지름 70 ---②\n",
    "cv2.circle(img, (300, 150), 70, (0,255,0), 5)\n",
    "# 원점(400,150), 반지름 50, 채우기 ---③\n",
    "cv2.circle(img, (400, 150), 50, (0,0,255), -1)\n",
    "\n",
    "# 원점(50,300), 반지름(50), 회전 0, 0도 부터 360도 그리기 ---④\n",
    "cv2.ellipse(img, (50, 300), (50, 50), 0, 0, 360, (0,0,255))\n",
    "# 원점(150, 300), 아래 반원 그리기 ---⑤\n",
    "cv2.ellipse(img, (150, 300), (50, 50), 0, 0, 180, (255,0,0))\n",
    "#원점(200, 300), 윗 반원 그리기 ---⑥\n",
    "cv2.ellipse(img, (200, 300), (50, 50), 0, 181, 360, (0,0,255))\n",
    "\n",
    "# 원점(325, 300), 반지름(75,50) 납작한 타원 그리기 ---⑦\n",
    "cv2.ellipse(img, (325, 300), (75, 50), 0, 0, 360, (0,255,0))  #(75, 50) 가로축, 세로축 길이 차이 -> 타원\n",
    "# 원점(450,300), 반지름(50,75) 홀쭉한 타원 그리기 ---⑧\n",
    "cv2.ellipse(img, (450, 300), (50, 75), 0, 0, 360, (255,0,255))\n",
    "\n",
    "# 원점(50, 425), 반지름(50,75), 회전 15도 ---⑨\n",
    "cv2.ellipse(img, (50, 425), (50, 75), 15, 0, 360, (0,0,0))\n",
    "# 원점(200,425), 반지름(50,75), 회전 45도 ---⑩\n",
    "cv2.ellipse(img, (200, 425), (50, 75), 45, 0, 360, (0,0,0))\n",
    "\n",
    "# 원점(350,425), 홀쭉한 타원 45도 회전 후 아랫 반원 그리기 ---⑪\n",
    "cv2.ellipse(img, (350, 425), (50, 75), 45, 0, 180, (0,0,255))\n",
    "# 원점(400,425), 홀쭉한 타원 45도 회전 후 윗 반원 그리기 ---⑫\n",
    "cv2.ellipse(img, (400, 425), (50, 75), 45, 181, 360, (255,0,0))\n",
    "\n",
    "cv2.imshow('circle', img)\n",
    "#cv2_imshow(img)\n",
    "cv2.waitKey(0)\n",
    "cv2.destroyAllWindows()"
   ]
  },
  {
   "cell_type": "markdown",
   "metadata": {},
   "source": [
    "### 2.2.5 글씨 그리기"
   ]
  },
  {
   "cell_type": "code",
   "execution_count": 22,
   "metadata": {},
   "outputs": [
    {
     "name": "stdout",
     "output_type": "stream",
     "text": [
      "qt.qpa.plugin: Could not find the Qt platform plugin \"wayland\" in \"/home/somyeong/.local/lib/python3.10/site-packages/cv2/qt/plugins\"\n"
     ]
    }
   ],
   "source": [
    "!python3 draw_text.py"
   ]
  },
  {
   "cell_type": "code",
   "execution_count": null,
   "metadata": {},
   "outputs": [],
   "source": [
    "import cv2\n",
    "\n",
    "img = cv2.imread('../img/blank_500.jpg')\n",
    "\n",
    "# sans-serif small\n",
    "cv2.putText(img, \"Plain\", (50, 30), cv2.FONT_HERSHEY_PLAIN, 1, (0, 0,0))\n",
    "# sans-serif normal\n",
    "cv2.putText(img, \"Simplex\", (50, 70), cv2.FONT_HERSHEY_SIMPLEX, 1, (0, 0,0))\n",
    "# sans-serif bold\n",
    "cv2.putText(img, \"Duplex\", (50, 110), cv2.FONT_HERSHEY_DUPLEX, 1, (0, 0,0))\n",
    "# sans-serif normall X2  ---①\n",
    "cv2.putText(img, \"Simplex\", (200, 110), cv2.FONT_HERSHEY_SIMPLEX, 2, (0,0,250))\n",
    "\n",
    "# serif small\n",
    "cv2.putText(img, \"Complex Small\", (50, 180), cv2.FONT_HERSHEY_COMPLEX_SMALL, \\\n",
    "            1, (0, 0,0))\n",
    "# serif normal\n",
    "cv2.putText(img, \"Complex\", (50, 220), cv2.FONT_HERSHEY_COMPLEX, 1, (0, 0,0))\n",
    "# serif bold\n",
    "cv2.putText(img, \"Triplex\", (50, 260), cv2.FONT_HERSHEY_TRIPLEX, 1, (0, 0,0))\n",
    "# serif normal X2  ---②\n",
    "cv2.putText(img, \"Complex\", (200, 260), cv2.FONT_HERSHEY_TRIPLEX, 2, (0,0,255))\n",
    "\n",
    "# hand-wringing sans-serif\n",
    "cv2.putText(img, \"Script Simplex\", (50, 330), cv2.FONT_HERSHEY_SCRIPT_SIMPLEX, \\\n",
    "            1, (0, 0,0))\n",
    "# hand-wringing serif\n",
    "cv2.putText(img, \"Script Complex\", (50, 370), cv2.FONT_HERSHEY_SCRIPT_COMPLEX, \\\n",
    "            1, (0, 0,0))\n",
    "\n",
    "# sans-serif + italic ---③\n",
    "cv2.putText(img, \"Plain Italic\", (50, 430), \\\n",
    "            cv2.FONT_HERSHEY_PLAIN | cv2.FONT_ITALIC, 1, (0, 0,0))\n",
    "# sarif + italic\n",
    "cv2.putText(img, \"Complex Italic\", (50, 470), \\\n",
    "            cv2.FONT_HERSHEY_COMPLEX | cv2.FONT_ITALIC, 1, (0, 0,0))\n",
    "\n",
    "cv2.imshow('draw text', img)\n",
    "#cv2_imshow(img)\n",
    "cv2.waitKey()\n",
    "cv2.destroyAllWindows()"
   ]
  },
  {
   "cell_type": "markdown",
   "metadata": {},
   "source": [
    "## 2.3 창 관리"
   ]
  },
  {
   "cell_type": "code",
   "execution_count": 23,
   "metadata": {},
   "outputs": [
    {
     "name": "stdout",
     "output_type": "stream",
     "text": [
      "qt.qpa.plugin: Could not find the Qt platform plugin \"wayland\" in \"/home/somyeong/.local/lib/python3.10/site-packages/cv2/qt/plugins\"\n"
     ]
    }
   ],
   "source": [
    "!python3 win.py"
   ]
  },
  {
   "cell_type": "code",
   "execution_count": null,
   "metadata": {},
   "outputs": [],
   "source": [
    "import cv2\n",
    "\n",
    "file_path = '../img/girl.jpg'\n",
    "img = cv2.imread(file_path)                            # 이미지를 기본 값으로 읽기\n",
    "img_gray = cv2.imread(file_path, cv2.IMREAD_GRAYSCALE) # 이미지를 그레이 스케일로 읽기\n",
    "\n",
    "cv2.namedWindow('origin')                               # origin 이름으로 창 생성\n",
    "cv2.namedWindow('gray', cv2.WINDOW_NORMAL)              # gray 이름으로 창 생성\n",
    "cv2.imshow('origin', img)                               # origin 창에 이미지 표시\n",
    "cv2.imshow('gray', img_gray)                            # gray 창에 이미지 표시\n",
    "\n",
    "cv2.moveWindow('origin', 0, 0)                          # 창 위치 변경\n",
    "cv2.moveWindow('gray', 100, 100)                        # 창 위치 변경\n",
    "\n",
    "cv2.waitKey(0)                                          # 아무키나 누르면\n",
    "cv2.resizeWindow('origin', 200, 200)                    # 창 크기 변경 (변경 안됨)\n",
    "cv2.resizeWindow('gray', 100, 100)                      # 창 크기 변경 (변경 됨))\n",
    "\n",
    "cv2.waitKey(0)                                          # 아무키나 누르면\n",
    "cv2.destroyWindow(\"gray\")                               # gray 창 닫기\n",
    "\n",
    "cv2.waitKey(0)                                          # 아무키나 누르면\n",
    "cv2.destroyAllWindows()   "
   ]
  },
  {
   "cell_type": "markdown",
   "metadata": {},
   "source": [
    "## 2.4 이벤트 처리"
   ]
  },
  {
   "cell_type": "markdown",
   "metadata": {},
   "source": [
    "### 2.4.1 키보드 이벤트"
   ]
  },
  {
   "cell_type": "code",
   "execution_count": 24,
   "metadata": {},
   "outputs": [
    {
     "name": "stdout",
     "output_type": "stream",
     "text": [
      "qt.qpa.plugin: Could not find the Qt platform plugin \"wayland\" in \"/home/somyeong/.local/lib/python3.10/site-packages/cv2/qt/plugins\"\n",
      "104 h\n",
      "104 h\n",
      "104 h\n",
      "104 h\n",
      "100 d\n",
      "106 j\n",
      "101 e\n",
      "114 r\n",
      "27 \u001b\n"
     ]
    }
   ],
   "source": [
    "!python3 event_key.py"
   ]
  },
  {
   "cell_type": "code",
   "execution_count": null,
   "metadata": {},
   "outputs": [],
   "source": [
    "import cv2\n",
    "\n",
    "img_file = \"../img/girl.jpg\"\n",
    "img = cv2.imread(img_file)\n",
    "title = 'IMG'                   # 창 이름\n",
    "x, y = 100, 100                 # 최초 좌표\n",
    "\n",
    "cv2.imshow(img)\n",
    "#cv2_imshow(img)\n",
    "cv2.moveWindow(title, x, y)\n",
    "\n",
    "while True:\n",
    "    key = cv2.waitKey(0) & 0xFF # 키보드 입력을 무한 대기, 8비트 마스크처리\n",
    "    print(key, chr(key))        # 키보드 입력 값,  문자 값 출력\n",
    "    if key == ord('h'):         # 'h' 키 이면 좌로 이동\n",
    "        x -= 10\n",
    "    elif key == ord('j'):       # 'j' 키 이면 아래로 이동\n",
    "        y += 10\n",
    "    elif key == ord('k'):       # 'k' 키 이면 위로 이동\n",
    "        y -= 10\n",
    "    elif key == ord('l'):       # 'l' 키 이면 오른쪽으로 이동\n",
    "        x += 10\n",
    "    elif key == ord('q') or key == 27: # 'q' 이거나 'esc' 이면 종료\n",
    "        break\n",
    "        cv2.destroyAllWindows()\n",
    "    cv2.moveWindow(title, x, y )   # 새로운 좌표로 창 이동"
   ]
  },
  {
   "cell_type": "markdown",
   "metadata": {},
   "source": [
    "### 2.4.2 마우스 이벤트"
   ]
  },
  {
   "cell_type": "code",
   "execution_count": null,
   "metadata": {},
   "outputs": [],
   "source": [
    "!python3 event_mouse_circle.py"
   ]
  },
  {
   "cell_type": "code",
   "execution_count": null,
   "metadata": {},
   "outputs": [],
   "source": [
    "import cv2\n",
    "\n",
    "title = 'mouse event'                   # 창 제목\n",
    "img = cv2.imread('../img/blank_500.jpg') # 백색 이미지 읽기\n",
    "cv2.imshow(title, img)                  # 백색 이미지 표시\n",
    "#cv2_imshow(img)                  # 백색 이미지 표시\n",
    "\n",
    "def onMouse(event, x, y, flags, param): # 아무스 콜백 함수 구현 ---①\n",
    "    print(event, x, y, )                # 파라미터 출력\n",
    "    if event == cv2.EVENT_LBUTTONDOWN:  # 왼쪽 버튼 누름인 경우 ---②\n",
    "        cv2.circle(img, (x,y), 30, (0,0,0), -1) # 지름 30 크기의 검은색 원을 해당 좌표에 그림\n",
    "        cv2.imshow(title, img)          # 그려진 이미지를 다시 표시 ---③\n",
    "        #cv2_imshow(img)          # 그려진 이미지를 다시 표시 ---③\n",
    "\n",
    "cv2.setMouseCallback(title, onMouse)    # 마우스 콜백 함수를 GUI 윈도우에 등록 ---④\n",
    "\n",
    "while True:\n",
    "    if cv2.waitKey(0) & 0xFF == 27:     # esc로 종료\n",
    "        break\n",
    "cv2.destroyAllWindows()"
   ]
  },
  {
   "cell_type": "code",
   "execution_count": 26,
   "metadata": {},
   "outputs": [
    {
     "name": "stdout",
     "output_type": "stream",
     "text": [
      "qt.qpa.plugin: Could not find the Qt platform plugin \"wayland\" in \"/home/somyeong/.local/lib/python3.10/site-packages/cv2/qt/plugins\"\n",
      "0 489 141 0\n",
      "0 461 137 0\n",
      "0 435 137 0\n",
      "0 413 137 0\n",
      "0 395 139 0\n",
      "0 374 145 0\n",
      "0 363 149 0\n",
      "0 351 156 0\n",
      "0 344 160 0\n",
      "0 330 170 0\n",
      "0 316 182 0\n",
      "0 309 189 0\n",
      "0 304 196 0\n",
      "0 302 197 0\n",
      "0 302 198 0\n",
      "0 301 199 0\n",
      "0 301 204 0\n",
      "0 303 209 0\n",
      "0 303 212 0\n",
      "0 303 215 0\n",
      "0 303 217 0\n",
      "1 303 217 1\n",
      "4 303 217 1\n",
      "0 299 215 0\n",
      "0 295 211 0\n",
      "0 285 205 0\n",
      "0 269 195 0\n",
      "0 252 186 0\n",
      "0 224 176 0\n",
      "0 194 166 0\n",
      "0 170 158 0\n",
      "0 138 150 0\n",
      "0 106 138 0\n",
      "0 82 128 0\n",
      "0 64 118 0\n",
      "0 50 110 0\n",
      "0 35 98 0\n",
      "0 19 88 0\n",
      "0 10 80 0\n",
      "0 4 74 0\n",
      "0 0 67 0\n",
      "0 388 358 0\n",
      "0 386 361 0\n",
      "0 384 368 0\n",
      "0 383 372 0\n",
      "0 382 374 0\n",
      "0 381 377 0\n",
      "0 380 379 0\n",
      "0 380 381 0\n",
      "0 379 383 0\n",
      "0 379 384 0\n",
      "0 378 386 0\n",
      "0 377 388 0\n",
      "0 376 388 0\n",
      "0 375 390 0\n",
      "0 373 392 0\n",
      "0 372 393 0\n",
      "0 371 394 0\n",
      "0 370 394 0\n",
      "0 370 395 0\n",
      "1 370 395 1\n",
      "4 370 395 1\n",
      "0 369 395 0\n",
      "0 368 394 0\n",
      "0 359 389 0\n",
      "0 348 384 0\n",
      "0 338 377 0\n",
      "0 328 371 0\n",
      "0 307 355 0\n",
      "0 291 341 0\n",
      "0 278 332 0\n",
      "0 270 323 0\n",
      "0 257 310 0\n",
      "0 233 290 0\n",
      "0 215 272 0\n",
      "0 189 248 0\n",
      "0 173 234 0\n",
      "0 147 212 0\n",
      "0 131 198 0\n",
      "0 109 176 0\n",
      "0 99 166 0\n",
      "0 81 147 0\n",
      "0 74 137 0\n",
      "0 67 126 0\n",
      "0 64 120 0\n",
      "0 63 112 0\n",
      "0 62 109 0\n",
      "0 61 107 0\n",
      "0 61 105 0\n",
      "0 61 104 0\n",
      "0 61 103 0\n",
      "0 67 100 0\n",
      "0 77 98 0\n",
      "0 87 97 0\n",
      "0 96 94 0\n",
      "0 103 91 0\n",
      "0 107 91 0\n",
      "0 111 90 0\n",
      "0 118 87 0\n",
      "0 124 87 0\n",
      "0 127 85 0\n",
      "1 127 85 1\n",
      "4 127 85 1\n",
      "0 127 88 0\n",
      "0 131 99 0\n",
      "0 135 104 0\n",
      "0 139 111 0\n",
      "0 144 119 0\n",
      "0 148 127 0\n",
      "0 153 133 0\n",
      "0 154 135 0\n",
      "0 156 141 0\n",
      "0 157 146 0\n",
      "0 160 152 0\n",
      "0 161 157 0\n",
      "0 162 162 0\n",
      "0 164 170 0\n",
      "0 165 177 0\n",
      "0 166 183 0\n",
      "0 168 186 0\n",
      "0 168 191 0\n",
      "0 169 197 0\n",
      "0 169 199 0\n",
      "0 169 201 0\n",
      "0 169 204 0\n",
      "0 169 206 0\n",
      "0 169 208 0\n",
      "0 169 210 0\n",
      "0 169 212 0\n",
      "0 169 213 0\n",
      "0 169 215 0\n",
      "0 169 217 0\n",
      "0 169 219 0\n",
      "0 169 221 0\n",
      "0 169 223 0\n",
      "0 169 226 0\n",
      "0 169 228 0\n",
      "0 169 230 0\n",
      "0 169 233 0\n",
      "0 169 239 0\n",
      "0 169 244 0\n",
      "0 169 250 0\n",
      "0 169 257 0\n",
      "0 169 260 0\n",
      "0 168 264 0\n",
      "0 168 268 0\n",
      "0 168 272 0\n",
      "0 168 273 0\n",
      "0 167 276 0\n",
      "0 167 277 0\n",
      "0 167 278 0\n",
      "0 167 279 0\n",
      "0 167 280 0\n",
      "1 167 280 1\n",
      "4 167 280 1\n",
      "0 167 278 0\n",
      "0 179 272 0\n",
      "0 186 268 0\n",
      "0 187 265 0\n",
      "0 193 261 0\n",
      "0 197 255 0\n",
      "0 201 250 0\n",
      "0 211 237 0\n",
      "0 216 228 0\n",
      "0 222 219 0\n",
      "0 233 205 0\n",
      "0 243 191 0\n",
      "0 250 181 0\n",
      "0 265 160 0\n",
      "0 273 149 0\n",
      "0 284 132 0\n",
      "0 294 118 0\n",
      "0 295 117 0\n",
      "0 308 98 0\n",
      "0 320 80 0\n",
      "0 332 62 0\n",
      "0 344 44 0\n",
      "0 356 26 0\n",
      "0 365 13 0\n",
      "0 368 9 0\n",
      "0 370 6 0\n",
      "0 372 2 0\n"
     ]
    }
   ],
   "source": [
    "!python3 event_mouse_circle_flag.py"
   ]
  },
  {
   "cell_type": "code",
   "execution_count": null,
   "metadata": {},
   "outputs": [],
   "source": [
    "import cv2\n",
    "\n",
    "title = 'mouse event'                            # 창 제목\n",
    "img = cv2.imread('../img/blank_500.jpg')         # 백색 이미지 읽기\n",
    "cv2.imshow(title, img)                          # 백색 이미지 표시\n",
    "#cv2_imshow(img)                                  # 백색 이미지 표시\n",
    "\n",
    "def onMouse(event, x, y, flags, param):          # 아무스 콜백 함수 구현 ---①\n",
    "    print(event, x, y, )                         # 파라미터 출력\n",
    "    if event == cv2.EVENT_LBUTTONDOWN:           # 왼쪽 버튼 누름인 경우 ---②\n",
    "        cv2.circle(img, (x,y), 30, (0,0,0), -1)  # 지름 30 크기의 검은색 원을 해당 좌표에 그림\n",
    "        cv2.imshow(title, img)                  # 그려진 이미지를 다시 표시 ---③\n",
    "        #cv2_imshow(img)                          # 그려진 이미지를 다시 표시 ---③\n",
    "\n",
    "cv2.setMouseCallback(title, onMouse)             # 마우스 콜백 함수를 GUI 윈도우에 등록 ---④\n",
    "\n",
    "while True:\n",
    "    if cv2.waitKey(0) & 0xFF == 27:              # esc로 종료\n",
    "        break\n",
    "cv2.destroyAllWindows()"
   ]
  },
  {
   "cell_type": "markdown",
   "metadata": {},
   "source": [
    "### 2.4.3 트랙바"
   ]
  },
  {
   "cell_type": "code",
   "execution_count": 27,
   "metadata": {},
   "outputs": [
    {
     "name": "stdout",
     "output_type": "stream",
     "text": [
      "python3: can't open file '/home/somyeong/Doosan_Robotics/Doosan-Robotics/AI(computer_vision)/open_cv/insightbook.opencv_project_python/02.interface/event_tracker.py': [Errno 2] No such file or directory\n"
     ]
    }
   ],
   "source": [
    "!python3 event_tracker.py"
   ]
  },
  {
   "cell_type": "code",
   "execution_count": null,
   "metadata": {},
   "outputs": [],
   "source": [
    "import cv2\n",
    "import numpy as np\n",
    "\n",
    "win_name = 'Trackbar'                                   # 창 이름\n",
    "\n",
    "img = cv2.imread('../img/blank_500.jpg')\n",
    "cv2.imshow(win_name,img)                                # 초기 이미지를 창에 표시\n",
    "#cv2_imshow(img)                                # 초기 이미지를 창에 표시\n",
    "\n",
    "# 트랙바 이벤트 처리 함수 선언 ---①\n",
    "def onChange(x):\n",
    "    print(x)                                            # 트랙바 새로운 위치 값 --- ②\n",
    "    # 'R', 'G', 'B' 각 트랙바 위치 값    --- ③\n",
    "    r = cv2.getTrackbarPos('R',win_name)\n",
    "    g = cv2.getTrackbarPos('G',win_name)\n",
    "    b = cv2.getTrackbarPos('B',win_name)\n",
    "    print(r, g, b)\n",
    "    img[:] = [b,g,r]                                    # 기존 이미지에 새로운 픽셀 값 적용 --- ④\n",
    "    cv2.imshow(win_name, img)                           # 새 이미지 창에 표시\n",
    "\n",
    "# 트랙바 생성    --- ⑤\n",
    "cv2.createTrackbar('R', win_name, 255, 255, onChange)\n",
    "cv2.createTrackbar('G', win_name, 255, 255, onChange)\n",
    "cv2.createTrackbar('B', win_name, 255, 255, onChange)\n",
    "\n",
    "while True:\n",
    "    if cv2.waitKey(1) & 0xFF == 27:                     # esc로 종료\n",
    "        break\n",
    "cv2.destroyAllWindows()"
   ]
  }
 ],
 "metadata": {
  "kernelspec": {
   "display_name": "Python 3",
   "language": "python",
   "name": "python3"
  },
  "language_info": {
   "codemirror_mode": {
    "name": "ipython",
    "version": 3
   },
   "file_extension": ".py",
   "mimetype": "text/x-python",
   "name": "python",
   "nbconvert_exporter": "python",
   "pygments_lexer": "ipython3",
   "version": "3.10.12"
  }
 },
 "nbformat": 4,
 "nbformat_minor": 2
}
