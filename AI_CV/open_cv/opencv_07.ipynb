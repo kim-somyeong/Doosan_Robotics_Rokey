{
 "cells": [
  {
   "cell_type": "markdown",
   "metadata": {},
   "source": [
    "# Chapter 7 영상 분할"
   ]
  },
  {
   "cell_type": "code",
   "execution_count": 1,
   "metadata": {},
   "outputs": [
    {
     "data": {
      "text/plain": [
       "'4.10.0'"
      ]
     },
     "execution_count": 1,
     "metadata": {},
     "output_type": "execute_result"
    }
   ],
   "source": [
    "import cv2\n",
    "cv2.__version__"
   ]
  },
  {
   "cell_type": "code",
   "execution_count": 1,
   "metadata": {},
   "outputs": [
    {
     "name": "stdout",
     "output_type": "stream",
     "text": [
      "/home/somyeong/Doosan_Robotics/Doosan-Robotics/AI(computer_vision)/open_cv/insightbook.opencv_project_python/07.segmentation\n"
     ]
    },
    {
     "name": "stderr",
     "output_type": "stream",
     "text": [
      "/home/somyeong/.local/lib/python3.10/site-packages/IPython/core/magics/osm.py:417: UserWarning: This is now an optional IPython functionality, setting dhist requires you to install the `pickleshare` library.\n",
      "  self.shell.db['dhist'] = compress_dhist(dhist)[-100:]\n"
     ]
    }
   ],
   "source": [
    "%cd /home/somyeong/Doosan_Robotics/Doosan-Robotics/AI(computer_vision)/open_cv/insightbook.opencv_project_python/07.segmentation"
   ]
  },
  {
   "cell_type": "markdown",
   "metadata": {},
   "source": [
    "## 7.1 컨투어"
   ]
  },
  {
   "cell_type": "markdown",
   "metadata": {},
   "source": [
    "컨투어는 등고선을 의미.\n",
    "\n",
    "등고선은 지형의 높이가 같은 영역을 하나의 선으로 표시한 것을 말한다"
   ]
  },
  {
   "cell_type": "code",
   "execution_count": 2,
   "metadata": {},
   "outputs": [
    {
     "name": "stdout",
     "output_type": "stream",
     "text": [
      "도형의 갯수: 3(3)\n",
      "qt.qpa.plugin: Could not find the Qt platform plugin \"wayland\" in \"/home/somyeong/.local/lib/python3.10/site-packages/cv2/qt/plugins\"\n"
     ]
    }
   ],
   "source": [
    "!python3 cntr_find.py"
   ]
  },
  {
   "cell_type": "code",
   "execution_count": 7,
   "metadata": {},
   "outputs": [
    {
     "name": "stdout",
     "output_type": "stream",
     "text": [
      "contour[0] shape: (316, 1, 2)\n",
      "contour[1] shape: (448, 1, 2)\n",
      "contour[2] shape: (336, 1, 2)\n",
      "contour2[0] shape: (152, 1, 2)\n",
      "contour2[1] shape: (4, 1, 2)\n",
      "contour2[2] shape: (225, 1, 2)\n",
      "도형의 갯수: 3(3)\n"
     ]
    },
    {
     "name": "stderr",
     "output_type": "stream",
     "text": [
      "qt.qpa.plugin: Could not find the Qt platform plugin \"wayland\" in \"/home/somyeong/.local/lib/python3.10/site-packages/cv2/qt/plugins\"\n"
     ]
    }
   ],
   "source": [
    "import cv2\n",
    "import numpy as np\n",
    "\n",
    "img = cv2.imread('../img/shapes.png')\n",
    "img2 = img.copy()\n",
    "\n",
    "# 그레이 스케일로 변환 ---①\n",
    "imgray = cv2.cvtColor(img, cv2.COLOR_BGR2GRAY)\n",
    "# 스레시홀드로 바이너리 이미지로 만들어서 검은배경에 흰색전경으로 반전 ---②\n",
    "ret, imthres = cv2.threshold(imgray, 127, 255, cv2.THRESH_BINARY_INV)\n",
    "\n",
    "# 가장 바깥쪽 컨투어에 대해 모든 좌표 반환 ---③\n",
    "contour, hierarchy = cv2.findContours(imthres, cv2.RETR_EXTERNAL, \\\n",
    "                                               cv2.CHAIN_APPROX_NONE)[-2:]\n",
    "# 가장 바깥쪽 컨투어에 대해 꼭지점 좌표만 반환 ---④\n",
    "contour2, hierarchy = cv2.findContours(imthres, cv2.RETR_EXTERNAL, \\\n",
    "                                                cv2.CHAIN_APPROX_SIMPLE)[-2:]\n",
    "# contour 리스트의 모든 컨투어에 대해 shape 출력\n",
    "for i, c in enumerate(contour):                   # 추가됨\n",
    "    print(f\"contour[{i}] shape: {c.shape}\")       # 추가됨\n",
    "\n",
    "# contour2 리스트의 모든 컨투어에 대해 shape 출력\n",
    "for i, c in enumerate(contour2):                  # 추가됨\n",
    "    print(f\"contour2[{i}] shape: {c.shape}\")      # 추가됨\n",
    "\n",
    "# 각각의 컨투의 갯수 출력 ---⑤\n",
    "print('도형의 갯수: %d(%d)'% (len(contour), len(contour2)))\n",
    "\n",
    "# 모든 좌표를 갖는 컨투어 그리기, 초록색  ---⑥\n",
    "cv2.drawContours(img, contour, -1, (0,255,0), 4)\n",
    "# 꼭지점 좌표만을 갖는 컨투어 그리기, 초록색  ---⑦\n",
    "cv2.drawContours(img2, contour2, -1, (0,255,0), 4)\n",
    "\n",
    "# 컨투어 모든 좌표를 작은 파랑색 점(원)으로 표시 ---⑧\n",
    "for i in contour:\n",
    "    #print(\"aaa\")\n",
    "    for j in i:\n",
    "        cv2.circle(img, tuple(j[0]), 1, (255,0,0), -1)\n",
    "        #print(j[0])\n",
    "\n",
    "# 컨투어 꼭지점 좌표를 작은 파랑색 점(원)으로 표시 ---⑨\n",
    "for i in contour2:\n",
    "    #print(\"bbb\")\n",
    "    for j in i:\n",
    "        cv2.circle(img2, tuple(j[0]), 1, (255,0,0), -1)\n",
    "        #print(j[0])\n",
    "\n",
    "# 결과 출력 ---⑩\n",
    "cv2.imshow('CHAIN_APPROX_NONE', img)\n",
    "cv2.imshow('CHAIN_APPROX_SIMPLE', img2)\n",
    "\n",
    "#cv2_imshow(img)\n",
    "#cv2_imshow(img2)\n",
    "\n",
    "cv2.waitKey(0)\n",
    "cv2.destroyAllWindows()"
   ]
  },
  {
   "cell_type": "markdown",
   "metadata": {},
   "source": [
    "- 트리 계층의 컨투어"
   ]
  },
  {
   "cell_type": "code",
   "execution_count": 8,
   "metadata": {},
   "outputs": [
    {
     "name": "stdout",
     "output_type": "stream",
     "text": [
      "3 [[[ 1 -1 -1 -1]\n",
      "  [ 2  0 -1 -1]\n",
      "  [-1  1 -1 -1]]]\n",
      "6 [[[ 2 -1  1 -1]\n",
      "  [-1 -1 -1  0]\n",
      "  [ 4  0  3 -1]\n",
      "  [-1 -1 -1  2]\n",
      "  [-1  2  5 -1]\n",
      "  [-1 -1 -1  4]]]\n",
      "qt.qpa.plugin: Could not find the Qt platform plugin \"wayland\" in \"/home/somyeong/.local/lib/python3.10/site-packages/cv2/qt/plugins\"\n"
     ]
    }
   ],
   "source": [
    "!python3 cntr_hierarchy.py"
   ]
  },
  {
   "cell_type": "code",
   "execution_count": 30,
   "metadata": {},
   "outputs": [
    {
     "name": "stdout",
     "output_type": "stream",
     "text": [
      "3 [[[ 1 -1 -1 -1]\n",
      "  [ 2  0 -1 -1]\n",
      "  [-1  1 -1 -1]]]\n",
      "(1, 3, 4)\n",
      "(1, 6, 4)\n",
      "6 [[[ 2 -1  1 -1]\n",
      "  [-1 -1 -1  0]\n",
      "  [ 4  0  3 -1]\n",
      "  [-1 -1 -1  2]\n",
      "  [-1  2  5 -1]\n",
      "  [-1 -1 -1  4]]]\n"
     ]
    }
   ],
   "source": [
    "import cv2\n",
    "import numpy as np\n",
    "\n",
    "# 영상 읽기\n",
    "img = cv2.imread('../img/shapes_donut.png')\n",
    "img2 = img.copy()\n",
    "# 바이너리 이미지로 변환\n",
    "imgray = cv2.cvtColor(img, cv2.COLOR_BGR2GRAY)\n",
    "ret, imthres = cv2.threshold(imgray, 127, 255, cv2.THRESH_BINARY_INV)\n",
    "\n",
    "# 가장 바깥 컨투어만 수집   --- ① # external\n",
    "contour, hierarchy = cv2.findContours(imthres, cv2.RETR_EXTERNAL, \\\n",
    "                                               cv2.CHAIN_APPROX_NONE)[-2:]\n",
    "# 컨투어 갯수와 계층 트리 출력 --- ②  #hierarchy 외각선이 몇개이고 관계가 어떤지 표현\n",
    "print(len(contour), hierarchy)\n",
    "print(hierarchy.shape)\n",
    "\n",
    "# 모든 컨투어를 트리 계층 으로 수집 ---③  #tree\n",
    "contour2, hierarchy = cv2.findContours(imthres, cv2.RETR_TREE, \\\n",
    "                                            cv2.CHAIN_APPROX_SIMPLE)[-2:]\n",
    "\n",
    "print(hierarchy.shape)\n",
    "\n",
    "# 컨투어 갯수와 계층 트리 출력 ---④\n",
    "print(len(contour2), hierarchy)\n",
    "\n",
    "# 가장 바깥 컨투어만 그리기 ---⑤\n",
    "cv2.drawContours(img, contour, -1, (0,255,0), 3)\n",
    "# 모든 컨투어 그리기 ---⑥\n",
    "for idx, cont in enumerate(contour2):\n",
    "    # 랜덤한 컬러 추출 ---⑦\n",
    "    color = [int(i) for i in np.random.randint(0,255, 3)]\n",
    "    # 컨투어 인덱스 마다 랜덤한 색상으로 그리기 ---⑧\n",
    "    cv2.drawContours(img2, contour2, idx, color, 3)\n",
    "    # 컨투어 첫 좌표에 인덱스 숫자 표시 ---⑨\n",
    "    cv2.putText(img2, str(idx), tuple(cont[0][0]), cv2.FONT_HERSHEY_PLAIN, \\\n",
    "                                                            1, (0,0,255))\n",
    "\n",
    "# 화면 출력  #0 1 , 2 3, 4 5 부모 자식 관계  #0 4 등은 이웃관계\n",
    "cv2.imshow('RETR_EXTERNAL', img)\n",
    "cv2.imshow('RETR_TREE', img2)\n",
    "\n",
    "#cv2_imshow(img)\n",
    "#cv2_imshow(img2)\n",
    "\n",
    "cv2.waitKey(0)\n",
    "cv2.destroyAllWindows()"
   ]
  },
  {
   "cell_type": "markdown",
   "metadata": {},
   "source": [
    "### 7.1.1 이미지 모멘트와 컨투어 속성"
   ]
  },
  {
   "cell_type": "code",
   "execution_count": 10,
   "metadata": {},
   "outputs": [
    {
     "name": "stdout",
     "output_type": "stream",
     "text": [
      "area:9870.00\n",
      "area:12544.00\n",
      "area:6216.00\n",
      "qt.qpa.plugin: Could not find the Qt platform plugin \"wayland\" in \"/home/somyeong/.local/lib/python3.10/site-packages/cv2/qt/plugins\"\n"
     ]
    }
   ],
   "source": [
    "!python3 cntr_moment.py"
   ]
  },
  {
   "cell_type": "code",
   "execution_count": 11,
   "metadata": {},
   "outputs": [
    {
     "name": "stdout",
     "output_type": "stream",
     "text": [
      "area:9870.00\n",
      "area:12544.00\n",
      "area:6216.00\n"
     ]
    }
   ],
   "source": [
    "import cv2\n",
    "import numpy as np\n",
    "\n",
    "img = cv2.imread(\"../img/shapes.png\")\n",
    "# 그레이 스케일 변환\n",
    "imgray = cv2.cvtColor(img, cv2.COLOR_BGR2GRAY)\n",
    "# 바이너리 스케일 변환\n",
    "# 픽셀 값이 127 이상이면 0(검은색)으로, 127 미만이면 255(흰색)\n",
    "# 도형 흰색, 배경 검은색\n",
    "ret, th = cv2.threshold(imgray, 127, 255, cv2.THRESH_BINARY_INV)\n",
    "# 컨투어 찾기\n",
    "contours, hierachy = cv2.findContours(th, cv2.RETR_EXTERNAL, \\\n",
    "                                            cv2.CHAIN_APPROX_SIMPLE)[-2:]\n",
    "\n",
    "# 각 도형의 컨투어에 대한 루프\n",
    "for c in contours:\n",
    "    # 모멘트 계산\n",
    "    mmt = cv2.moments(c)\n",
    "    #      각 컨투어의 모멘트를 계산합니다.\n",
    "    #      모멘트는 컨투어의 무게 중심과 같은 특성들을 계산하는 데 사용됩니다.\n",
    "\n",
    "    # m10/m00, m01/m00  중심점 계산\n",
    "    cx = int(mmt['m10']/mmt['m00'])\n",
    "    cy = int(mmt['m01']/mmt['m00'])\n",
    "    #      모멘트를 이용해 컨투어의 중심점(cx, cy) 계산.\n",
    "    #      m10/m00과 m01/m00은 각각 x축과 y축에 대한 무게 중심을 의미함.\n",
    "\n",
    "    # 영역 넓이 - m00 값은 컨투어의 넓이를 나타냄.\n",
    "    a = mmt['m00']\n",
    "\n",
    "    # 영역 외곽선 길이\n",
    "    l = cv2.arcLength(c, True)\n",
    "    #      cv2.arcLength 함수는 컨투어의 외곽선 길이 계산.\n",
    "    #      True는 폐곡선(즉, 닫힌 형태의 도형)을 의미함.\n",
    "\n",
    "    # 중심점에 노란색 점 그리기\n",
    "    cv2.circle(img, (cx, cy), 5, (0, 255, 255), -1)\n",
    "    # 중심점 근처에 넓이 그리기\n",
    "    cv2.putText(img, \"A:%.0f\"%a, (cx, cy+20) , cv2.FONT_HERSHEY_PLAIN, \\\n",
    "                                                            1, (0,0,255))\n",
    "    # 컨투어 시작점에 길이 그리기\n",
    "    cv2.putText(img, \"L:%.2f\"%l, tuple(c[0][0]), cv2.FONT_HERSHEY_PLAIN, \\\n",
    "                                                            1, (255,0,0))\n",
    "    # 함수로 컨투어 넓이 계산해서 출력\n",
    "    print(\"area:%.2f\"%cv2.contourArea(c, False))\n",
    "\n",
    "# 결과 출력\n",
    "cv2.imshow('center', img)\n",
    "#cv2_imshow(img)\n",
    "cv2.waitKey(0)\n",
    "cv2.destroyAllWindows()"
   ]
  },
  {
   "cell_type": "markdown",
   "metadata": {},
   "source": [
    "- 컨투어를 감싸는 도형"
   ]
  },
  {
   "cell_type": "code",
   "execution_count": 18,
   "metadata": {},
   "outputs": [
    {
     "name": "stdout",
     "output_type": "stream",
     "text": [
      "<class 'numpy.ndarray'> (332, 1, 2) int32\n",
      "Traceback (most recent call last):\n",
      "  File \"/home/somyeong/Doosan_Robotics/Doosan-Robotics/AI(computer_vision)/open_cv/insightbook.opencv_project_python/07.segmentation/cntr_bound_fit.py\", line 22, in <module>\n",
      "    box = np.int0(box)          # 정수로 변환\n",
      "  File \"/home/somyeong/.local/lib/python3.10/site-packages/numpy/__init__.py\", line 410, in __getattr__\n",
      "    raise AttributeError(\"module {!r} has no attribute \"\n",
      "AttributeError: module 'numpy' has no attribute 'int0'. Did you mean: 'int8'?\n"
     ]
    }
   ],
   "source": [
    "!python3 cntr_bound_fit.py"
   ]
  },
  {
   "cell_type": "code",
   "execution_count": 55,
   "metadata": {},
   "outputs": [
    {
     "name": "stdout",
     "output_type": "stream",
     "text": [
      "<class 'numpy.ndarray'> (332, 1, 2) int32\n"
     ]
    },
    {
     "name": "stderr",
     "output_type": "stream",
     "text": [
      "/tmp/ipykernel_9943/4084784333.py:40: DeprecationWarning: Conversion of an array with ndim > 0 to a scalar is deprecated, and will error in future. Ensure you extract a single element from your array before performing this operation. (Deprecated NumPy 1.25.)\n",
      "  cv2.line(img, (0, int(0-x*(vy/vx) + y)), (cols-1, int((cols-x)*(vy/vx) + y)), \\\n"
     ]
    }
   ],
   "source": [
    "import cv2\n",
    "import numpy as np\n",
    "\n",
    "# 이미지 읽어서 그레이스케일 변환, 바이너리 스케일 변환\n",
    "img = cv2.imread(\"../img/lightning.png\")\n",
    "imgray = cv2.cvtColor(img, cv2.COLOR_BGR2GRAY)\n",
    "ret, th = cv2.threshold(imgray, 127,255,cv2.THRESH_BINARY_INV)\n",
    "\n",
    "# 컨튜어 찾기\n",
    "contours, hr = cv2.findContours(th, cv2.RETR_EXTERNAL, \\\n",
    "                                        cv2.CHAIN_APPROX_SIMPLE)[-2:]\n",
    "contr = contours[0]\n",
    "print(type(contr), contr.shape, contr.dtype)\n",
    "\n",
    "# 감싸는 사각형 표시(검정색)\n",
    "x,y,w,h = cv2.boundingRect(contr)\n",
    "cv2.rectangle(img, (x,y), (x+w, y+h), (0,0,0), 3)\n",
    "\n",
    "# 최소한의 사각형 표시(초록색)\n",
    "rect = cv2.minAreaRect(contr)\n",
    "box = cv2.boxPoints(rect)   # 중심점과 각도를 4개의 꼭지점 좌표로 변환\n",
    "box = np.int64(box)          # 정수로 변환\n",
    "cv2.drawContours(img, [box], -1, (0,255,0), 3)\n",
    "\n",
    "# 최소한의 원 표시(파랑색)\n",
    "(x,y), radius = cv2.minEnclosingCircle(contr)\n",
    "cv2.circle(img, (int(x), int(y)), int(radius), (255,0,0), 2)\n",
    "\n",
    "# 최소한의 삼각형 표시(분홍색)\n",
    "ret, tri = cv2.minEnclosingTriangle(np.float32(contr))\n",
    "cv2.polylines(img, [np.int32(tri)], True, (255,0,255), 2)\n",
    "\n",
    "# 최소한의 타원 표시(노랑색)\n",
    "ellipse = cv2.fitEllipse(contr)\n",
    "cv2.ellipse(img, ellipse, (0,255,255), 3)\n",
    "\n",
    "# 중심점 통과하는 직선 표시(빨강색)\n",
    "vx,vy,x,y = cv2.fitLine(contr, cv2.DIST_L2,0,0.01,0.01)\n",
    "cols,rows = img.shape[:2]\n",
    "cv2.line(img, (0, int(0-x*(vy/vx) + y)), (cols-1, int((cols-x)*(vy/vx) + y)), \\\n",
    "                                                        (0,0,255),2)\n",
    "\n",
    "# 결과 출력\n",
    "cv2.imshow('Bound Fit shapes', img)\n",
    "#cv2_imshow(img)\n",
    "\n",
    "cv2.waitKey(0)\n",
    "cv2.destroyAllWindows()"
   ]
  },
  {
   "cell_type": "markdown",
   "metadata": {},
   "source": [
    "### 7.1.2 컨투어 단순화"
   ]
  },
  {
   "cell_type": "code",
   "execution_count": 20,
   "metadata": {},
   "outputs": [
    {
     "name": "stdout",
     "output_type": "stream",
     "text": [
      "qt.qpa.plugin: Could not find the Qt platform plugin \"wayland\" in \"/home/somyeong/.local/lib/python3.10/site-packages/cv2/qt/plugins\"\n"
     ]
    }
   ],
   "source": [
    "!python3 cntr_approximate.py"
   ]
  },
  {
   "cell_type": "code",
   "execution_count": 3,
   "metadata": {},
   "outputs": [
    {
     "name": "stderr",
     "output_type": "stream",
     "text": [
      "qt.qpa.plugin: Could not find the Qt platform plugin \"wayland\" in \"/home/somyeong/.local/lib/python3.10/site-packages/cv2/qt/plugins\"\n"
     ]
    }
   ],
   "source": [
    "import cv2\n",
    "import numpy as np\n",
    "\n",
    "img = cv2.imread('../img/bad_rect.png')\n",
    "img2 = img.copy()\n",
    "\n",
    "# 그레이스케일과 바이너리 스케일 변환\n",
    "imgray = cv2.cvtColor(img, cv2.COLOR_BGR2GRAY)\n",
    "ret, th = cv2.threshold(imgray, 127, 255, cv2.THRESH_BINARY)\n",
    "\n",
    "# 컨투어 찾기 ---①\n",
    "contours, hierachy = cv2.findContours(th, cv2.RETR_EXTERNAL, \\\n",
    "                                     cv2.CHAIN_APPROX_SIMPLE)[-2:]\n",
    "contour = contours[0]\n",
    "# 전체 둘레의 0.05로 오차 범위 지정 ---②\n",
    "epsilon = 0.05 * cv2.arcLength(contour, True)\n",
    "# 근사 컨투어 계산 ---③\n",
    "approx = cv2.approxPolyDP(contour, epsilon, True)\n",
    "\n",
    "# 각각 컨투어 선 그리기 ---④\n",
    "cv2.drawContours(img, [contour], -1, (0,255,0), 3)\n",
    "cv2.drawContours(img2, [approx], -1, (0,255,0), 3)\n",
    "\n",
    "# 결과 출력\n",
    "cv2.imshow('contour', img)\n",
    "cv2.imshow('approx', img2)\n",
    "\n",
    "#cv2_imshow(img)\n",
    "#cv2_imshow(img2)\n",
    "\n",
    "cv2.waitKey()\n",
    "cv2.destroyAllWindows()"
   ]
  },
  {
   "cell_type": "code",
   "execution_count": 22,
   "metadata": {},
   "outputs": [
    {
     "name": "stdout",
     "output_type": "stream",
     "text": [
      "False True\n",
      "qt.qpa.plugin: Could not find the Qt platform plugin \"wayland\" in \"/home/somyeong/.local/lib/python3.10/site-packages/cv2/qt/plugins\"\n"
     ]
    }
   ],
   "source": [
    "!python3 cntr_convexhull.py"
   ]
  },
  {
   "cell_type": "code",
   "execution_count": 23,
   "metadata": {},
   "outputs": [
    {
     "name": "stdout",
     "output_type": "stream",
     "text": [
      "False True\n"
     ]
    }
   ],
   "source": [
    "import cv2\n",
    "import numpy as np\n",
    "\n",
    "img = cv2.imread('../img/hand.jpg')\n",
    "img2 = img.copy()\n",
    "# 그레이 스케일 및 바이너리 스케일 변환 ---①\n",
    "gray = cv2.cvtColor(img, cv2.COLOR_BGR2GRAY)\n",
    "ret, th = cv2.threshold(gray, 127, 255, cv2.THRESH_BINARY_INV)\n",
    "\n",
    "# 컨투어 찾기와 그리기 ---②\n",
    "contours, heiarchy = cv2.findContours(th, cv2.RETR_EXTERNAL, \\\n",
    "                                         cv2.CHAIN_APPROX_SIMPLE)[-2:]\n",
    "cntr = contours[0]\n",
    "cv2.drawContours(img, [cntr], -1, (0, 255,0), 1)\n",
    "\n",
    "# 볼록 선체 찾기(좌표 기준)와 그리기 ---③\n",
    "hull = cv2.convexHull(cntr)\n",
    "cv2.drawContours(img2, [hull], -1, (0,255,0), 1)\n",
    "# 볼록 선체 만족 여부 확인 ---④\n",
    "print(cv2.isContourConvex(cntr), cv2.isContourConvex(hull))\n",
    "\n",
    "# 볼록 선체 찾기(인덱스 기준) ---⑤\n",
    "hull2 = cv2.convexHull(cntr, returnPoints=False)\n",
    "# 볼록 선체 결함 찾기 ---⑥\n",
    "defects = cv2.convexityDefects(cntr, hull2)\n",
    "# 볼록 선체 결함 순회\n",
    "for i in range(defects.shape[0]):\n",
    "    # 시작, 종료, 가장 먼 지점, 거리 ---⑦\n",
    "    startP, endP, farthestP, distance = defects[i, 0]\n",
    "    # 가장 먼 지점의 좌표 구하기 ---⑧\n",
    "    farthest = tuple(cntr[farthestP][0])\n",
    "    # 거리를 부동 소수점으로 변환 ---⑨\n",
    "    dist = distance/256.0\n",
    "    # 거리가 1보다 큰 경우 ---⑩\n",
    "    if dist > 1 :\n",
    "        # 빨강색 점 표시\n",
    "        cv2.circle(img2, farthest, 3, (0,0,255), -1)\n",
    "# 결과 이미지 표시\n",
    "cv2.imshow('contour', img)\n",
    "cv2.imshow('convex hull', img2)\n",
    "\n",
    "#cv2_imshow(img)\n",
    "#cv2_imshow(img2)\n",
    "\n",
    "cv2.waitKey(0)\n",
    "cv2.destroyAllWindows()"
   ]
  },
  {
   "cell_type": "markdown",
   "metadata": {},
   "source": [
    "### 7.1.3 컨투어와 도형 매칭"
   ]
  },
  {
   "cell_type": "code",
   "execution_count": 24,
   "metadata": {},
   "outputs": [
    {
     "name": "stdout",
     "output_type": "stream",
     "text": [
      "qt.qpa.plugin: Could not find the Qt platform plugin \"wayland\" in \"/home/somyeong/.local/lib/python3.10/site-packages/cv2/qt/plugins\"\n"
     ]
    }
   ],
   "source": [
    "!python3 cntr_matchShape.py"
   ]
  },
  {
   "cell_type": "code",
   "execution_count": 25,
   "metadata": {},
   "outputs": [],
   "source": [
    "import cv2\n",
    "import numpy as np\n",
    "\n",
    "# 매칭을 위한 이미지 읽기\n",
    "target = cv2.imread('../img/4star.jpg') # 매칭 대상\n",
    "shapes = cv2.imread('../img/shapestomatch.jpg') # 여러 도형\n",
    "# 그레이 스케일 변환\n",
    "targetGray = cv2.cvtColor(target, cv2.COLOR_BGR2GRAY)\n",
    "shapesGray = cv2.cvtColor(shapes, cv2.COLOR_BGR2GRAY)\n",
    "# 바이너리 스케일 변환\n",
    "ret, targetTh = cv2.threshold(targetGray, 127, 255, cv2.THRESH_BINARY_INV)\n",
    "ret, shapesTh = cv2.threshold(shapesGray, 127, 255, cv2.THRESH_BINARY_INV)\n",
    "# 컨투어 찾기\n",
    "cntrs_target, _ = cv2.findContours(targetTh, cv2.RETR_EXTERNAL, \\\n",
    "                                            cv2.CHAIN_APPROX_SIMPLE)[-2:]\n",
    "cntrs_shapes, _ = cv2.findContours(shapesTh, cv2.RETR_EXTERNAL, \\\n",
    "                                            cv2.CHAIN_APPROX_SIMPLE)[-2:]\n",
    "\n",
    "# 각 도형과 매칭을 위한 반복문\n",
    "matchs = [] # 컨투어와 매칭 점수를 보관할 리스트\n",
    "for contr in cntrs_shapes:\n",
    "    # 대상 도형과 여러 도형 중 하나와 매칭 실행 ---①\n",
    "    match = cv2.matchShapes(cntrs_target[0], contr, cv2.CONTOURS_MATCH_I2, 0.0)\n",
    "    # 해당 도형의 매칭 점수와 컨투어를 쌍으로 저장 ---②\n",
    "    matchs.append( (match, contr) )\n",
    "    # 해당 도형의 컨투어 시작지점에 매칭 점수 표시 ---③\n",
    "    cv2.putText(shapes, '%.2f'%match, tuple(contr[0][0]),\\\n",
    "                    cv2.FONT_HERSHEY_PLAIN, 1,(0,0,255),1 )\n",
    "# 매칭 점수로 정렬 ---④\n",
    "matchs.sort(key=lambda x : x[0])\n",
    "# 가장 적은 매칭 점수를 얻는 도형의 컨투어에 선 그리기 ---⑤\n",
    "cv2.drawContours(shapes, [matchs[0][1]], -1, (0,255,0), 3)\n",
    "cv2.imshow('target', target)\n",
    "cv2.imshow('Match Shape', shapes)\n",
    "\n",
    "#cv2_imshow(target)\n",
    "#cv2_imshow(shapes)\n",
    "\n",
    "cv2.waitKey()\n",
    "cv2.destroyAllWindows()"
   ]
  },
  {
   "cell_type": "markdown",
   "metadata": {},
   "source": [
    "## 7.2 허프 변환"
   ]
  },
  {
   "cell_type": "markdown",
   "metadata": {},
   "source": [
    "### 7.2.1 허프 선 변환"
   ]
  },
  {
   "cell_type": "markdown",
   "metadata": {},
   "source": [
    "- 이미지는 수많은 픽셀로 구성되어 있다. 그 픽셀 중 서로 직선 관계를 갖는 픽셀들만 골라내는 것"
   ]
  },
  {
   "cell_type": "code",
   "execution_count": 26,
   "metadata": {},
   "outputs": [
    {
     "name": "stdout",
     "output_type": "stream",
     "text": [
      "qt.qpa.plugin: Could not find the Qt platform plugin \"wayland\" in \"/home/somyeong/.local/lib/python3.10/site-packages/cv2/qt/plugins\"\n"
     ]
    }
   ],
   "source": [
    "!python3 hough_line.py"
   ]
  },
  {
   "cell_type": "code",
   "execution_count": 4,
   "metadata": {},
   "outputs": [],
   "source": [
    "import cv2\n",
    "import numpy as np\n",
    "\n",
    "img = cv2.imread('../img/sudoku.jpg')\n",
    "img2 = img.copy()\n",
    "h, w = img.shape[:2]\n",
    "# 그레이 스케일 변환 및 엣지 검출 ---①\n",
    "imgray = cv2.cvtColor(img, cv2.COLOR_BGR2GRAY)\n",
    "edges = cv2.Canny(imgray, 100, 200 )\n",
    "# 허프 선 검출 ---②\n",
    "lines = cv2.HoughLines(edges, 1, np.pi/180, 130)\n",
    "for line in lines: # 검출된 모든 선 순회\n",
    "    r,theta = line[0] # 거리와 각도wh\n",
    "    tx, ty = np.cos(theta), np.sin(theta) # x, y축에 대한 삼각비\n",
    "    x0, y0 = tx*r, ty*r  #x, y 기준(절편) 좌표\n",
    "    # 기준 좌표에 빨강색 점 그리기\n",
    "    cv2.circle(img2, (int(abs(x0)), int(abs(y0))), 3, (0,0,255), -1)\n",
    "    # 직선 방정식으로 그리기 위한 시작점, 끝점 계산\n",
    "    x1, y1 = int(x0 + w*(-ty)), int(y0 + h * tx)\n",
    "    x2, y2 = int(x0 - w*(-ty)), int(y0 - h * tx)\n",
    "    # 선그리기\n",
    "    cv2.line(img2, (x1, y1), (x2, y2), (0,255,0), 1)\n",
    "\n",
    "#결과 출력\n",
    "merged = np.hstack((img, img2))\n",
    "cv2.imshow('hough line', merged)\n",
    "#cv2_imshow(merged)\n",
    "cv2.waitKey()\n",
    "cv2.destroyAllWindows()"
   ]
  },
  {
   "cell_type": "markdown",
   "metadata": {},
   "source": [
    "### 7.2.2 확률적 허프 선 변환"
   ]
  },
  {
   "cell_type": "markdown",
   "metadata": {},
   "source": [
    "- 모든 점을 고려하지 않고 무작위로 선정한 픽셀에 대해 허프 변환을 수행하고 점차 그 수를 증가시키는 법"
   ]
  },
  {
   "cell_type": "markdown",
   "metadata": {},
   "source": [
    "- cv2.HoughLines() 보다 선 검출이 적다. 따라서 엣지를 강하게 하고 threshold를 낮게 지정"
   ]
  },
  {
   "cell_type": "code",
   "execution_count": 34,
   "metadata": {},
   "outputs": [
    {
     "name": "stdout",
     "output_type": "stream",
     "text": [
      "qt.qpa.plugin: Could not find the Qt platform plugin \"wayland\" in \"/home/somyeong/.local/lib/python3.10/site-packages/cv2/qt/plugins\"\n"
     ]
    }
   ],
   "source": [
    "!python3 hough_lineP.py"
   ]
  },
  {
   "cell_type": "code",
   "execution_count": 5,
   "metadata": {},
   "outputs": [],
   "source": [
    "import cv2\n",
    "import numpy as np\n",
    "\n",
    "img = cv2.imread('../img/sudoku.jpg')\n",
    "img2 = img.copy()\n",
    "# 그레이 스케일로 변환 및 엣지 검출 ---①\n",
    "imgray = cv2.cvtColor(img, cv2.COLOR_BGR2GRAY)\n",
    "edges = cv2.Canny(imgray, 50, 200 )\n",
    "\n",
    "# 확율 허프 변환 적용 ---②\n",
    "lines = cv2.HoughLinesP(edges, 1, np.pi/180, 10, None, 20, 2)\n",
    "for line in lines:\n",
    "    # 검출된 선 그리기 ---③\n",
    "    x1, y1, x2, y2 = line[0]\n",
    "    cv2.line(img2, (x1,y1), (x2, y2), (0,255,0), 1)\n",
    "\n",
    "merged = np.hstack((img, img2))\n",
    "cv2.imshow('Probability hough line', merged)\n",
    "#cv2_imshow(merged)\n",
    "cv2.waitKey()\n",
    "cv2.destroyAllWindows()"
   ]
  },
  {
   "cell_type": "markdown",
   "metadata": {},
   "source": [
    "### 7.2.3 허프 원 변환"
   ]
  },
  {
   "cell_type": "markdown",
   "metadata": {},
   "source": [
    "cv2.HoughCircles는 캐니 엣지를 수항하고 나서 소벨 필터를 적용해 엣지의 경사도를 누적하는 방법으로 원 검출을 구현"
   ]
  },
  {
   "cell_type": "code",
   "execution_count": 35,
   "metadata": {},
   "outputs": [
    {
     "name": "stdout",
     "output_type": "stream",
     "text": [
      "qt.qpa.plugin: Could not find the Qt platform plugin \"wayland\" in \"/home/somyeong/.local/lib/python3.10/site-packages/cv2/qt/plugins\"\n"
     ]
    }
   ],
   "source": [
    "!python3 hough_circle.py"
   ]
  },
  {
   "cell_type": "code",
   "execution_count": 6,
   "metadata": {},
   "outputs": [],
   "source": [
    "import cv2\n",
    "import numpy as np\n",
    "\n",
    "img = cv2.imread('../img/coins_spread1.jpg')\n",
    "# 그레이 스케일 변환 ---①\n",
    "gray = cv2.cvtColor(img, cv2.COLOR_BGR2GRAY)\n",
    "# 노이즈 제거를 위한 가우시안 블러 ---②\n",
    "blur = cv2.GaussianBlur(gray, (3,3), 0)\n",
    "# 허프 원 변환 적용( dp=1.5, minDist=30, cany_max=200 ) ---③\n",
    "circles = cv2.HoughCircles(blur, cv2.HOUGH_GRADIENT, 1.5, 30, None, 200)\n",
    "if circles is not None:\n",
    "    circles = np.uint16(np.around(circles))\n",
    "    for i in circles[0,:]:\n",
    "        # 원 둘레에 초록색 원 그리기\n",
    "        cv2.circle(img,(i[0], i[1]), i[2], (0, 255, 0), 2)\n",
    "        # 원 중심점에 빨강색 원 그리기\n",
    "        cv2.circle(img, (i[0], i[1]), 2, (0,0,255), 5)\n",
    "\n",
    "# 결과 출력\n",
    "cv2.imshow('hough circle', img)\n",
    "#cv2_imshow(img)\n",
    "cv2.waitKey(0)\n",
    "cv2.destroyAllWindows()\n"
   ]
  },
  {
   "cell_type": "markdown",
   "metadata": {},
   "source": [
    "## 7.3 연속 영역 분할"
   ]
  },
  {
   "cell_type": "markdown",
   "metadata": {},
   "source": [
    "### 7.3.1 거리 변환"
   ]
  },
  {
   "cell_type": "markdown",
   "metadata": {},
   "source": [
    "- cv2.DIST_L1 : 맨해튼 거리 -> 수직 및 수평 방향의 거리만 계산\n",
    "- cv2.DIST_L2 : 유클리드 거리 -> 두 점 사이의 직선 거리를 계산 (피타고라스)\n",
    "- cv2.DIST_C : 체비쇼프 거리 -> 두 점 사이의 최대 축 방향 차이를 거리로 측정\n",
    "- cv2.DIST_L12 : L1 + L2 형태로 결합된 거리 계산을 수행\n",
    "- cv2.DIST_FAIR : 공정 거리 -> 두 점 사이의 거리 계산에 균형 잡힌 측정을 제공\n",
    "- cv2.DIST_WELSCH : 웰치 거리 -> 두 점 사이의 거리를 계산할 때, 거리가 커질수록 증가율이 감소하는 방식\n",
    "- cv2.DIST_HUBER : 후버 거리 -> 일반적인 유클리드 거리와 절대 거리 사이에서 선택적인 거리 측정을 제공"
   ]
  },
  {
   "cell_type": "code",
   "execution_count": 37,
   "metadata": {},
   "outputs": [
    {
     "name": "stdout",
     "output_type": "stream",
     "text": [
      "qt.qpa.plugin: Could not find the Qt platform plugin \"wayland\" in \"/home/somyeong/.local/lib/python3.10/site-packages/cv2/qt/plugins\"\n"
     ]
    }
   ],
   "source": [
    "!python3 distanceTrans.py"
   ]
  },
  {
   "cell_type": "code",
   "execution_count": 43,
   "metadata": {},
   "outputs": [],
   "source": [
    "import cv2\n",
    "import numpy as np\n",
    "\n",
    "# 이미지를 읽어서 바이너리 스케일로 변환\n",
    "img = cv2.imread('../img/full_body.jpg', cv2.IMREAD_GRAYSCALE)\n",
    "_, biimg = cv2.threshold(img, 127, 255, cv2.THRESH_BINARY_INV)\n",
    "\n",
    "# 거리 변환 ---①\n",
    "dst = cv2.distanceTransform(biimg, cv2.DIST_L2, 5)\n",
    "# 거리 값을 0 ~ 255 범위로 정규화 ---②\n",
    "dst = (dst/(dst.max()-dst.min()) * 255).astype(np.uint8)\n",
    "# 거리 값에 쓰레시홀드로 완전한 뼈대 찾기 ---③\n",
    "skeleton = cv2.adaptiveThreshold(dst, 255, cv2.ADAPTIVE_THRESH_GAUSSIAN_C, \\\n",
    "                                                 cv2.THRESH_BINARY, 7, -3)\n",
    "# 결과 출력\n",
    "cv2.imshow('origin', img)\n",
    "cv2.imshow('dist', dst)\n",
    "cv2.imshow('skel', skeleton)\n",
    "\n",
    "#cv2_imshow(img)\n",
    "#cv2_imshow(dst)\n",
    "#cv2_imshow(skeleton)\n",
    "\n",
    "cv2.waitKey(0)\n",
    "cv2.destroyAllWindows()"
   ]
  },
  {
   "cell_type": "markdown",
   "metadata": {},
   "source": [
    "### 7.3.2 연결 요소 레이블링"
   ]
  },
  {
   "cell_type": "code",
   "execution_count": 44,
   "metadata": {},
   "outputs": [
    {
     "name": "stdout",
     "output_type": "stream",
     "text": [
      "qt.qpa.plugin: Could not find the Qt platform plugin \"wayland\" in \"/home/somyeong/.local/lib/python3.10/site-packages/cv2/qt/plugins\"\n"
     ]
    }
   ],
   "source": [
    "!python3 connected_label.py"
   ]
  },
  {
   "cell_type": "code",
   "execution_count": 45,
   "metadata": {},
   "outputs": [],
   "source": [
    "import cv2\n",
    "import numpy as np\n",
    "\n",
    "# 이미지 읽기\n",
    "img = cv2.imread('../img/shapes_donut.png')\n",
    "# 결과 이미지 생성\n",
    "img2 = np.zeros_like(img)\n",
    "# 그레이 스케일과 바이너리 스케일 변환\n",
    "gray = cv2.cvtColor(img, cv2.COLOR_BGR2GRAY)\n",
    "_, th = cv2.threshold(gray, 127, 255, cv2.THRESH_BINARY)\n",
    "\n",
    "# 연결된 요소 레이블링 적용 ---①\n",
    "cnt, labels = cv2.connectedComponents(th)\n",
    "#retval, labels, stats, cent = cv2.connectedComponentsWithStats(th)\n",
    "\n",
    "# 레이블 갯수 만큼 순회\n",
    "for i in range(cnt):\n",
    "    # 레이블이 같은 영역에 랜덤한 색상 적용 ---②\n",
    "    img2[labels==i] =  [int(j) for j in np.random.randint(0,255, 3)]\n",
    "\n",
    "# 결과 출력\n",
    "cv2.imshow('origin', img)\n",
    "cv2.imshow('labeled', img2)\n",
    "#cv2_imshow(img)\n",
    "#cv2_imshow(img2)\n",
    "cv2.waitKey(0)\n",
    "cv2.destroyAllWindows()"
   ]
  },
  {
   "cell_type": "markdown",
   "metadata": {},
   "source": [
    "### 7.3.3 색 채우기"
   ]
  },
  {
   "cell_type": "markdown",
   "metadata": {},
   "source": [
    "- 마우스로 특정 영역을 클릭하면 특정 영역을 흰색으로 채우는 코드"
   ]
  },
  {
   "cell_type": "code",
   "execution_count": 56,
   "metadata": {},
   "outputs": [
    {
     "name": "stdout",
     "output_type": "stream",
     "text": [
      "qt.qpa.plugin: Could not find the Qt platform plugin \"wayland\" in \"/home/somyeong/.local/lib/python3.10/site-packages/cv2/qt/plugins\"\n"
     ]
    }
   ],
   "source": [
    "!python3 flood_fill.py"
   ]
  },
  {
   "cell_type": "code",
   "execution_count": 57,
   "metadata": {},
   "outputs": [],
   "source": [
    "import cv2\n",
    "import numpy as np\n",
    "\n",
    "img = cv2.imread('../img/taekwonv1.jpg')\n",
    "rows, cols = img.shape[:2]\n",
    "# 마스크 생성, 원래 이미지 보다 2픽셀 크게 ---①\n",
    "mask = np.zeros((rows+2, cols+2), np.uint8)\n",
    "# 채우기에 사용할 색 ---②\n",
    "newVal = (255,255,255)\n",
    "# 최소 최대 차이 값 ---③\n",
    "loDiff, upDiff = (10,10,10), (10,10,10)\n",
    "\n",
    "# 마우스 이벤트 처리 함수\n",
    "def onMouse(event, x, y, flags, param):\n",
    "    global mask, img\n",
    "    if event == cv2.EVENT_LBUTTONDOWN:\n",
    "        seed = (x,y)\n",
    "        # 색 채우기 적용 ---④\n",
    "        retval = cv2.floodFill(img, mask, seed, newVal, loDiff, upDiff)\n",
    "        # 채우기 변경 결과 표시 ---⑤\n",
    "        cv2.imshow('img', img)\n",
    "\n",
    "# 화면 출력\n",
    "cv2.imshow('img', img)\n",
    "#cv2_imshow(img)\n",
    "cv2.setMouseCallback('img', onMouse)\n",
    "cv2.waitKey(0)\n",
    "cv2.destroyAllWindows()"
   ]
  },
  {
   "cell_type": "markdown",
   "metadata": {},
   "source": [
    "### 7.3.4 워터셰드"
   ]
  },
  {
   "cell_type": "markdown",
   "metadata": {},
   "source": [
    "- 연속된 영역을 찾는 것, seed를 하나가 아닌 여러 개를 지정할 수 있고 이를 마커라 한다."
   ]
  },
  {
   "cell_type": "code",
   "execution_count": 58,
   "metadata": {},
   "outputs": [
    {
     "name": "stdout",
     "output_type": "stream",
     "text": [
      "qt.qpa.plugin: Could not find the Qt platform plugin \"wayland\" in \"/home/somyeong/.local/lib/python3.10/site-packages/cv2/qt/plugins\"\n"
     ]
    }
   ],
   "source": [
    "!python3 watershed.py"
   ]
  },
  {
   "cell_type": "code",
   "execution_count": 59,
   "metadata": {},
   "outputs": [],
   "source": [
    "import cv2\n",
    "import numpy as np\n",
    "\n",
    "img = cv2.imread('../img/taekwonv1.jpg')\n",
    "rows, cols = img.shape[:2]\n",
    "img_draw = img.copy()\n",
    "\n",
    "# 마커 생성, 모든 요소는 0으로 초기화 ---①\n",
    "marker = np.zeros((rows, cols), np.int32)\n",
    "markerId = 1        # 마커 아이디는 1에서 시작\n",
    "colors = []         # 마커 선택한 영역 색상 저장할 공간\n",
    "isDragging = False  # 드래그 여부 확인 변수\n",
    "\n",
    "# 마우스 이벤트 처리 함수\n",
    "def onMouse(event, x, y, flags, param):\n",
    "    global img_draw, marker, markerId, isDragging\n",
    "    if event == cv2.EVENT_LBUTTONDOWN:  # 왼쪽 마우스 버튼 다운, 드래그 시작\n",
    "        isDragging = True\n",
    "        # 각 마커의 아이디와 현 위치의 색상 값을 쌍으로 매핑해서 저장\n",
    "        colors.append((markerId, img[y,x]))\n",
    "    elif event == cv2.EVENT_MOUSEMOVE:  # 마우스 움직임\n",
    "        if isDragging:                  # 드래그 진행 중\n",
    "            # 마우스 좌표에 해당하는 마커의 좌표에 동일한 마커 아이디로 채워 넣기 ---②\n",
    "            marker[y,x] = markerId\n",
    "            # 마커 표시한 곳을 빨강색점으로 표시해서 출력\n",
    "            cv2.circle(img_draw, (x,y), 3, (0,0,255), -1)\n",
    "            cv2.imshow('watershed', img_draw)\n",
    "    elif event == cv2.EVENT_LBUTTONUP:  # 왼쪽 마우스 버튼 업\n",
    "        if isDragging:\n",
    "            isDragging = False          # 드래그 중지\n",
    "            # 다음 마커 선택을 위해 마커 아이디 증가 ---③\n",
    "            markerId +=1\n",
    "    elif event == cv2.EVENT_RBUTTONDOWN: # 오른쪽 마우스 버튼 누름\n",
    "            # 모아 놓은 마커를 이용해서 워터 쉐드 적용 ---④\n",
    "            cv2.watershed(img, marker)\n",
    "            # 마커에 -1로 표시된 경계를 초록색으로 표시  ---⑤\n",
    "            img_draw[marker == -1] = (0,255,0)\n",
    "            for mid, color in colors: # 선택한 마커 아이디 갯수 만큼 반복\n",
    "                # 같은 마커 아이디 값을 갖는 영역을 마커 선택한 색상으로 채우기 ---⑥\n",
    "                img_draw[marker==mid] = color\n",
    "            cv2.imshow('watershed', img_draw) # 표시한 결과 출력\n",
    "\n",
    "# 화면 출력\n",
    "cv2.imshow('watershed', img)\n",
    "#cv2_imshow(img)\n",
    "\n",
    "cv2.setMouseCallback('watershed', onMouse)\n",
    "cv2.waitKey(0)\n",
    "cv2.destroyAllWindows()"
   ]
  },
  {
   "cell_type": "markdown",
   "metadata": {},
   "source": [
    "### 7.3.5 그랩컷"
   ]
  },
  {
   "cell_type": "markdown",
   "metadata": {},
   "source": [
    "- 사용자가 전경(배경이 아닌 부분)으로 분리할 부분에 사각형 표시를 해주면 전경과 배경의 색상 분포를 추정해서 동일한 레이블을 가진 연결된 영역에서 전경과 배경을 분리"
   ]
  },
  {
   "cell_type": "code",
   "execution_count": 60,
   "metadata": {},
   "outputs": [
    {
     "name": "stdout",
     "output_type": "stream",
     "text": [
      "qt.qpa.plugin: Could not find the Qt platform plugin \"wayland\" in \"/home/somyeong/.local/lib/python3.10/site-packages/cv2/qt/plugins\"\n"
     ]
    }
   ],
   "source": [
    "!python3 grabcut.py"
   ]
  },
  {
   "cell_type": "code",
   "execution_count": 61,
   "metadata": {},
   "outputs": [],
   "source": [
    "import cv2\n",
    "import numpy as np\n",
    "\n",
    "img = cv2.imread('../img/taekwonv1.jpg')\n",
    "img_draw = img.copy()\n",
    "mask = np.zeros(img.shape[:2], dtype=np.uint8)  # 마스크 생성\n",
    "rect = [0,0,0,0]    # 사각형 영역 좌표 초기화\n",
    "mode = cv2.GC_EVAL  # 그랩컷 초기 모드\n",
    "# 배경 및 전경 모델 버퍼\n",
    "bgdmodel = np.zeros((1,65),np.float64)\n",
    "fgdmodel = np.zeros((1,65),np.float64)\n",
    "\n",
    "# 마우스 이벤트 처리 함수\n",
    "def onMouse(event, x, y, flags, param):\n",
    "    global mouse_mode, rect, mask, mode\n",
    "    if event == cv2.EVENT_LBUTTONDOWN : # 왼쪽 마우스 누름\n",
    "        if flags <= 1: # 아무 키도 안 눌렀으면\n",
    "            mode = cv2.GC_INIT_WITH_RECT # 드래그 시작, 사각형 모드 ---①\n",
    "            rect[:2] = x, y # 시작 좌표 저장\n",
    "    # 마우스가 움직이고 왼쪽 버튼이 눌러진 상태\n",
    "    elif event == cv2.EVENT_MOUSEMOVE and flags & cv2.EVENT_FLAG_LBUTTON :\n",
    "        if mode == cv2.GC_INIT_WITH_RECT: # 드래그 진행 중 ---②\n",
    "            img_temp = img.copy()\n",
    "            # 드래그 사각형 화면에 표시\n",
    "            cv2.rectangle(img_temp, (rect[0], rect[1]), (x, y), (0,255,0), 2)\n",
    "            cv2.imshow('img', img_temp)\n",
    "        elif flags > 1: # 키가 눌러진 상태\n",
    "            mode = cv2.GC_INIT_WITH_MASK    # 마스크 모드 ---③\n",
    "            if flags & cv2.EVENT_FLAG_CTRLKEY :# 컨트롤 키, 분명한 전경\n",
    "                # 흰색 점 화면에 표시\n",
    "                cv2.circle(img_draw,(x,y),3, (255,255,255),-1)\n",
    "                # 마스크에 GC_FGD로 채우기      ---④\n",
    "                cv2.circle(mask,(x,y),3, cv2.GC_FGD,-1)\n",
    "            if flags & cv2.EVENT_FLAG_SHIFTKEY : # 쉬프트키, 분명한 배경\n",
    "                # 검정색 점 화면에 표시\n",
    "                cv2.circle(img_draw,(x,y),3, (0,0,0),-1)\n",
    "                # 마스크에 GC_BGD로 채우기      ---⑤\n",
    "                cv2.circle(mask,(x,y),3, cv2.GC_BGD,-1)\n",
    "            cv2.imshow('img', img_draw) # 그려진 모습 화면에 출력\n",
    "    elif event == cv2.EVENT_LBUTTONUP: # 마우스 왼쪽 버튼 뗀 상태 ---⑥\n",
    "        if mode == cv2.GC_INIT_WITH_RECT : # 사각형 그리기 종료\n",
    "            rect[2:] =x, y # 사각형 마지막 좌표 수집\n",
    "            # 사각형 그려서 화면에 출력 ---⑦\n",
    "            cv2.rectangle(img_draw, (rect[0], rect[1]), (x, y), (255,0,0), 2)\n",
    "            cv2.imshow('img', img_draw)\n",
    "            #cv2_imshow(img_draw)\n",
    "        # 그랩컷 적용 ---⑧\n",
    "        cv2.grabCut(img, mask, tuple(rect), bgdmodel, fgdmodel, 1, mode)\n",
    "        img2 = img.copy()\n",
    "        # 마스크에 확실한 배경, 아마도 배경으로 표시된 영역을 0으로 채우기\n",
    "        img2[(mask==cv2.GC_BGD) | (mask==cv2.GC_PR_BGD)] = 0\n",
    "        cv2.imshow('grabcut', img2) # 최종 결과 출력\n",
    "        #cv2_imshow(img2) # 최종 결과 출력\n",
    "        mode = cv2.GC_EVAL # 그랩컷 모드 리셋\n",
    "# 초기 화면 출력 및 마우스 이벤트 등록\n",
    "cv2.imshow('img', img)\n",
    "#cv2_imshow(img)\n",
    "cv2.setMouseCallback('img', onMouse)\n",
    "while True:\n",
    "    if cv2.waitKey(0) & 0xFF == 27 : # esc\n",
    "        break\n",
    "cv2.destroyAllWindows()"
   ]
  },
  {
   "cell_type": "markdown",
   "metadata": {},
   "source": [
    "### 7.3.6 평균 이동 필터"
   ]
  },
  {
   "cell_type": "markdown",
   "metadata": {},
   "source": [
    "- 물감으로 그림을 그린 것과 같이 이미지를 바꿀 수 있다."
   ]
  },
  {
   "cell_type": "code",
   "execution_count": 62,
   "metadata": {},
   "outputs": [
    {
     "name": "stdout",
     "output_type": "stream",
     "text": [
      "qt.qpa.plugin: Could not find the Qt platform plugin \"wayland\" in \"/home/somyeong/.local/lib/python3.10/site-packages/cv2/qt/plugins\"\n"
     ]
    }
   ],
   "source": [
    "!python3 mean_shift.py"
   ]
  },
  {
   "cell_type": "code",
   "execution_count": 63,
   "metadata": {},
   "outputs": [],
   "source": [
    "import cv2\n",
    "import numpy as np\n",
    "\n",
    "img = cv2.imread('../img/taekwonv1.jpg')\n",
    "# 트랙바 이벤트 처리 함수\n",
    "def onChange(x):\n",
    "    #sp, sr, level 선택 값 수집\n",
    "    sp = cv2.getTrackbarPos('sp', 'img')\n",
    "    sr = cv2.getTrackbarPos('sr', 'img')\n",
    "    lv = cv2.getTrackbarPos('lv', 'img')\n",
    "\n",
    "    # 평균 이동 필터 적용 ---①\n",
    "    mean = cv2.pyrMeanShiftFiltering(img, sp, sr, None, lv)\n",
    "    # 변환 이미지 출력\n",
    "    cv2.imshow('img', np.hstack((img, mean)))\n",
    "\n",
    "# 초기 화면 출력\n",
    "cv2.imshow('img', np.hstack((img, img)))\n",
    "#cv2_imshow(np.hstack((img, img)))\n",
    "# 트랙바 이벤트 함수 연결\n",
    "cv2.createTrackbar('sp', 'img', 0,100, onChange)\n",
    "cv2.createTrackbar('sr', 'img', 0,100, onChange)\n",
    "cv2.createTrackbar('lv', 'img', 0,5, onChange)\n",
    "cv2.waitKey(0)\n",
    "cv2.destroyAllWindows()"
   ]
  },
  {
   "cell_type": "markdown",
   "metadata": {},
   "source": [
    "## 7.4 실전 워크숍"
   ]
  },
  {
   "cell_type": "markdown",
   "metadata": {},
   "source": [
    "### 7.4.1 도형 알아맞히기"
   ]
  },
  {
   "cell_type": "code",
   "execution_count": 64,
   "metadata": {},
   "outputs": [
    {
     "name": "stdout",
     "output_type": "stream",
     "text": [
      "vertices: 10\n",
      "vertices: 16\n",
      "vertices: 3\n",
      "vertices: 4\n",
      "vertices: 4\n",
      "qt.qpa.plugin: Could not find the Qt platform plugin \"wayland\" in \"/home/somyeong/.local/lib/python3.10/site-packages/cv2/qt/plugins\"\n"
     ]
    }
   ],
   "source": [
    "!python3 workshop_shape.py"
   ]
  },
  {
   "cell_type": "code",
   "execution_count": 65,
   "metadata": {},
   "outputs": [
    {
     "name": "stdout",
     "output_type": "stream",
     "text": [
      "vertices: 10\n",
      "vertices: 16\n",
      "vertices: 3\n",
      "vertices: 4\n",
      "vertices: 4\n"
     ]
    }
   ],
   "source": [
    "import cv2\n",
    "import numpy as np\n",
    "\n",
    "# 이미지를 읽어서 그레이 스케일 및 스레시홀드 변환\n",
    "img = cv2.imread(\"../img/5shapes.jpg\")\n",
    "img2 = img.copy()\n",
    "imgray = cv2.cvtColor(img, cv2.COLOR_BGR2GRAY)\n",
    "ret, th = cv2.threshold(imgray, 127, 255, cv2.THRESH_BINARY_INV)\n",
    "\n",
    "# 컨투어 찾기\n",
    "contours, _ = cv2.findContours(th, cv2.RETR_EXTERNAL, \\\n",
    "                                        cv2.CHAIN_APPROX_SIMPLE)[-2:]\n",
    "\n",
    "for contour in contours:\n",
    "    # 각 컨투어에 근사 컨투어로 단순화\n",
    "    approx = cv2.approxPolyDP(contour, 0.01*cv2.arcLength(contour, True), True)\n",
    "    # 꼭지점의 갯수\n",
    "    vertices = len(approx)\n",
    "    print(\"vertices:\", vertices)\n",
    "\n",
    "    # 중심점 찾기\n",
    "    mmt = cv2.moments(contour)\n",
    "    cx,cy = int(mmt['m10']/mmt['m00']), int(mmt['m01']/mmt['m00'])\n",
    "\n",
    "    name = \"Unkown\"\n",
    "    if vertices == 3: # 꼭지점이 3개는 삼각형\n",
    "        name = \"Triangle\"\n",
    "        color = (0,255,0)\n",
    "    elif vertices == 4: # 꼭지점 4개는 사각형\n",
    "        x,y,w,h = cv2.boundingRect(contour)\n",
    "        if abs(w-h) <= 3:   # 폭과 높이의 차이가 3보다 작으면 정사각형\n",
    "            name = 'Square'\n",
    "            color = (0,125,255)\n",
    "        else:               # 폭과 높이 차이가 3보다 크면 직사각형\n",
    "            name = 'Rectangle'\n",
    "            color = (0,0,255)\n",
    "    elif vertices == 10:  # 꼭 지점 갯수 10개는 별\n",
    "        name = 'Star'\n",
    "        color = (255,255,0)\n",
    "    elif vertices >= 15: # 꼭 지점 10개 이상이면 원\n",
    "        name = 'Circle'\n",
    "        color = (0,255,255)\n",
    "    # 컨투어 그리기\n",
    "    cv2.drawContours(img2, [contour], -1, color, -1)\n",
    "    # 도형 이름 출력\n",
    "    cv2.putText(img2, name, (cx-50, cy), cv2.FONT_HERSHEY_COMPLEX_SMALL,\\\n",
    "                                                         1, (100,100,100), 1)\n",
    "\n",
    "cv2.imshow('Input Shapes', img)\n",
    "cv2.imshow('Recognizing Shapes', img2)\n",
    "cv2.waitKey(0)\n",
    "cv2.destroyAllWindows()"
   ]
  },
  {
   "cell_type": "markdown",
   "metadata": {},
   "source": [
    "### 7.4.2 문서 스캐너"
   ]
  },
  {
   "cell_type": "code",
   "execution_count": 66,
   "metadata": {},
   "outputs": [
    {
     "name": "stdout",
     "output_type": "stream",
     "text": [
      "qt.qpa.plugin: Could not find the Qt platform plugin \"wayland\" in \"/home/somyeong/.local/lib/python3.10/site-packages/cv2/qt/plugins\"\n"
     ]
    }
   ],
   "source": [
    "!python3 workshop_paper_scan.py"
   ]
  },
  {
   "cell_type": "code",
   "execution_count": 67,
   "metadata": {},
   "outputs": [],
   "source": [
    "import cv2\n",
    "import numpy as np\n",
    "\n",
    "win_name = 'scan'\n",
    "# 이미지 읽기\n",
    "img = cv2.imread(\"../img/paper.jpg\")\n",
    "cv2.imshow('original', img)\n",
    "cv2.waitKey(0)\n",
    "draw = img.copy()\n",
    "\n",
    "# 그레이스 스케일 변환 및 케니 엣지\n",
    "gray = cv2.cvtColor(img, cv2.COLOR_BGR2GRAY)\n",
    "gray = cv2.GaussianBlur(gray, (3, 3), 0) # 가우시안 블러로 노이즈 제거\n",
    "edged = cv2.Canny(gray, 75, 200)    # 케니 엣지로 경계 검출\n",
    "cv2.imshow(win_name, edged)\n",
    "cv2.waitKey(0)\n",
    "\n",
    "# 컨투어 찾기\n",
    "cnts, _ = cv2.findContours(edged.copy(), cv2.RETR_EXTERNAL, \\\n",
    "                                                cv2.CHAIN_APPROX_SIMPLE)[-2:]\n",
    "# 모든 컨투어 그리기\n",
    "cv2.drawContours(draw, cnts, -1, (0,255,0))\n",
    "cv2.imshow(win_name, draw)\n",
    "cv2.waitKey(0)\n",
    "\n",
    "# 컨투어들 중에 영역 크기 순으로 정렬\n",
    "cnts = sorted(cnts, key = cv2.contourArea, reverse = True)[:5]\n",
    "for c in cnts:\n",
    "    # 영역이 가장 큰 컨투어 부터 근사 컨투어 단순화\n",
    "    peri = cv2.arcLength(c, True)   # 둘레 길이\n",
    "    # 둘레 길이의 0.02 근사값으로 근사화\n",
    "    vertices = cv2.approxPolyDP(c, 0.02 * peri, True)\n",
    "    if len(vertices) == 4: # 근사한 꼭지점이 4개면 중지\n",
    "        break\n",
    "pts = vertices.reshape(4, 2) # N x 1 x 2 배열을 4 x 2크기로 조정\n",
    "for x,y in pts:\n",
    "    cv2.circle(draw, (x,y), 10, (0,255,0), -1) # 좌표에 초록색 동그라미 표시\n",
    "cv2.imshow(win_name, draw)\n",
    "cv2.waitKey(0)\n",
    "merged = np.hstack((img, draw))\n",
    "\n",
    "#### 이하 [예제 5-8]과 동일 ####\n",
    "# 좌표 4개 중 상하좌우 찾기 ---②\n",
    "sm = pts.sum(axis=1)                 # 4쌍의 좌표 각각 x+y 계산\n",
    "diff = np.diff(pts, axis = 1)       # 4쌍의 좌표 각각 x-y 계산\n",
    "\n",
    "topLeft = pts[np.argmin(sm)]         # x+y가 가장 값이 좌상단 좌표\n",
    "bottomRight = pts[np.argmax(sm)]     # x+y가 가장 큰 값이 좌상단 좌표\n",
    "topRight = pts[np.argmin(diff)]     # x-y가 가장 작은 것이 우상단 좌표\n",
    "bottomLeft = pts[np.argmax(diff)]   # x-y가 가장 큰 값이 좌하단 좌표\n",
    "\n",
    "# 변환 전 4개 좌표\n",
    "pts1 = np.float32([topLeft, topRight, bottomRight , bottomLeft])\n",
    "\n",
    "# 변환 후 영상에 사용할 서류의 폭과 높이 계산 ---③\n",
    "w1 = abs(bottomRight[0] - bottomLeft[0])    # 상단 좌우 좌표간의 거리\n",
    "w2 = abs(topRight[0] - topLeft[0])          # 하당 좌우 좌표간의 거리\n",
    "h1 = abs(topRight[1] - bottomRight[1])      # 우측 상하 좌표간의 거리\n",
    "h2 = abs(topLeft[1] - bottomLeft[1])        # 좌측 상하 좌표간의 거리\n",
    "width = max([w1, w2])                       # 두 좌우 거리간의 최대값이 서류의 폭\n",
    "height = max([h1, h2])                      # 두 상하 거리간의 최대값이 서류의 높이\n",
    "\n",
    "# 변환 후 4개 좌표\n",
    "pts2 = np.float32([[0,0], [width-1,0],\n",
    "                    [width-1,height-1], [0,height-1]])\n",
    "\n",
    "# 변환 행렬 계산\n",
    "mtrx = cv2.getPerspectiveTransform(pts1, pts2)\n",
    "# 원근 변환 적용\n",
    "result = cv2.warpPerspective(img, mtrx, (width, height))\n",
    "cv2.imshow(win_name, result)\n",
    "cv2.waitKey(0)\n",
    "cv2.destroyAllWindows()"
   ]
  },
  {
   "cell_type": "markdown",
   "metadata": {},
   "source": [
    "### 7.4.3 동전 개수 새기"
   ]
  },
  {
   "cell_type": "code",
   "execution_count": 68,
   "metadata": {},
   "outputs": [
    {
     "name": "stdout",
     "output_type": "stream",
     "text": [
      "qt.qpa.plugin: Could not find the Qt platform plugin \"wayland\" in \"/home/somyeong/.local/lib/python3.10/site-packages/cv2/qt/plugins\"\n",
      "워터쉐드 전: [ 0  1  2  3  4  5  6  7  8  9 10 11 12 13 14]\n",
      "워터쉐드 후: [-1  1  2  3  4  5  6  7  8  9 10 11 12 13 14]\n"
     ]
    }
   ],
   "source": [
    "!python3 workshop_coin_count.py"
   ]
  },
  {
   "cell_type": "code",
   "execution_count": 71,
   "metadata": {},
   "outputs": [
    {
     "name": "stdout",
     "output_type": "stream",
     "text": [
      "워터쉐드 전: [ 0  1  2  3  4  5  6  7  8  9 10 11 12 13 14]\n",
      "워터쉐드 후: [-1  1  2  3  4  5  6  7  8  9 10 11 12 13 14]\n"
     ]
    }
   ],
   "source": [
    "import cv2\n",
    "import numpy as np\n",
    "\n",
    "# 이미지 읽기\n",
    "img = cv2.imread('../img/coins_connected.jpg')\n",
    "rows, cols = img.shape[:2]\n",
    "cv2.imshow('original', img)\n",
    "#cv2_imshow(img)\n",
    "\n",
    "\n",
    "# 동전 표면을 흐릿하게 피라미드평균시프트 적용\n",
    "mean = cv2.pyrMeanShiftFiltering(img, 20, 50)\n",
    "cv2.imshow('mean', mean)\n",
    "#cv2_imshow(mean)\n",
    "# 바이너리 이미지 변환\n",
    "gray = cv2.cvtColor(mean, cv2.COLOR_BGR2GRAY)\n",
    "gray = cv2.GaussianBlur(gray, (3,3), 0)\n",
    "\n",
    "_, thresh = cv2.threshold(gray, 0, 255, cv2.THRESH_BINARY | cv2.THRESH_OTSU)\n",
    "cv2.imshow('thresh', thresh)\n",
    "#cv2_imshow(thresh)\n",
    "# 거리 변환\n",
    "dst = cv2.distanceTransform(thresh, cv2.DIST_L2, 3)\n",
    "# 거리 값을 0 ~255로 변환\n",
    "dst = ( dst / (dst.max() - dst.min()) * 255 ).astype(np.uint8)\n",
    "cv2.imshow('dst', dst)\n",
    "#cv2_imshow(dst)\n",
    "\n",
    "# 거리 변환결과에서 로칼 최대 값 구하기\n",
    "## 팽창 적용(동전 크기 정도의 구조화 요소 필요),\n",
    "localMx = cv2.dilate(dst, np.ones((50,50), np.uint8))\n",
    "## 로칼 최대 값 저장 할 배열 생성\n",
    "lm = np.zeros((rows, cols), np.uint8)\n",
    "## 팽창 적용전 이미지와 같은 픽셀이 로컬 최대 값이므로 255로 설정\n",
    "lm[(localMx==dst) & (dst != 0)] = 255\n",
    "cv2.imshow('localMx', lm)\n",
    "#cv2_imshow(lm)\n",
    "\n",
    "# 로컬 최대값으로 색 채우기\n",
    "## 로컬 최대 값이 있는 좌표 구하기\n",
    "seeds = np.where(lm ==255)\n",
    "seed = np.stack( (seeds[1], seeds[0]), axis=-1)\n",
    "## 색 채우기를 위한 채우기 마스크 생성\n",
    "fill_mask = np.zeros((rows+2, cols+2), np.uint8)\n",
    "for x,y in seed:\n",
    "    ## 로칼 최대값을 시드로해서 평균 시프트 영상에 색채우기\n",
    "    ret = cv2.floodFill(mean, fill_mask, (x,y), (255,255,255), \\\n",
    "                                            (10,10,10), (10,10,10))\n",
    "cv2.imshow('floodFill', mean)\n",
    "#cv2_imshow(mean)\n",
    "\n",
    "# 색 채우기 적용한 영상에 다시 거리 변환 적용\n",
    "gray = cv2.cvtColor(mean, cv2.COLOR_BGR2GRAY)\n",
    "gray = cv2.GaussianBlur(gray, (5,5), 0)\n",
    "\n",
    "ret, thresh = cv2.threshold(gray, 0, 255, cv2.THRESH_BINARY | cv2.THRESH_OTSU)\n",
    "dst = cv2.distanceTransform(thresh, cv2.DIST_L2, 5)\n",
    "dst = ( (dst / (dst.max() - dst.min())) * 255 ).astype(np.uint8)\n",
    "cv2.imshow('dst2', dst)\n",
    "#cv2_imshow(dst)\n",
    "\n",
    "# 거리 변환 결과값의 절반 이상을 차지한 영역은 확실한 전경으로 설정\n",
    "ret, sure_fg = cv2.threshold(dst, 0.5*dst.max(), 255,0)\n",
    "cv2.imshow('sure_fg', sure_fg)\n",
    "#cv2_imshow(sure_fg)\n",
    "\n",
    "# 거리 변환 결과를 반전해서 확실한 배경 찾기\n",
    "_, bg_th = cv2.threshold(dst, 0.3*dst.max(),  255, cv2.THRESH_BINARY_INV)\n",
    "bg_dst = cv2.distanceTransform(bg_th, cv2.DIST_L2, 5)\n",
    "bg_dst = ( (bg_dst / (bg_dst.max() - bg_dst.min())) * 255 ).astype(np.uint8)\n",
    "ret, sure_bg = cv2.threshold(bg_dst, 0.3*bg_dst.max(), 255,cv2.THRESH_BINARY)\n",
    "cv2.imshow('sure_bg', sure_bg)\n",
    "#cv2_imshow(sure_bg)\n",
    "\n",
    "\n",
    "# 불확실한 영역 설정 : 확실한 배경을 반전해서 확실한 전경을 빼기\n",
    "ret, inv_sure_bg = cv2.threshold(sure_bg, 127, 255,cv2.THRESH_BINARY_INV)\n",
    "unkown = cv2.subtract(inv_sure_bg, sure_fg)\n",
    "cv2.imshow('unkown', unkown)\n",
    "#cv2_imshow(unkown)\n",
    "\n",
    "# 연결된 요소 레이블링\n",
    "_, markers = cv2.connectedComponents(sure_fg)\n",
    "\n",
    "# 레이블링을 1씩 증가 시키고 0번 레이블 알 수 없는 영역을 0번 레이블로 설정\n",
    "markers = markers+1\n",
    "markers[unkown ==255] = 0\n",
    "print(\"워터쉐드 전:\", np.unique(markers))\n",
    "colors = []\n",
    "marker_show = np.zeros_like(img)\n",
    "for mid in np.unique(markers): # 선택한 마커 아이디 갯수 만큼 반복\n",
    "    color = [int(j) for j in np.random.randint(0,255, 3)]\n",
    "    colors.append((mid, color))\n",
    "    marker_show[markers==mid] = color\n",
    "    coords = np.where(markers==mid)\n",
    "    x, y = coords[1][0], coords[0][0]\n",
    "    cv2.putText(marker_show, str(mid), (x+20, y+20), cv2.FONT_HERSHEY_PLAIN, \\\n",
    "                                                             2, (255,255,255))\n",
    "cv2.imshow('before', marker_show)\n",
    "#cv2_imshow(marker_show)\n",
    "\n",
    "# 레이블링이 완성된 마커로 워터 쉐드 적용\n",
    "markers = cv2.watershed(img, markers)\n",
    "print(\"워터쉐드 후:\", np.unique(markers))\n",
    "\n",
    "for mid, color in colors: # 선택한 마커 아이디 갯수 만큼 반복\n",
    "    marker_show[markers==mid] = color\n",
    "    coords = np.where(markers==mid)\n",
    "    if coords[0].size <= 0 :\n",
    "        continue\n",
    "    x, y = coords[1][0], coords[0][0]\n",
    "    cv2.putText(marker_show, str(mid), (x+20, y+20), cv2.FONT_HERSHEY_PLAIN, \\\n",
    "                                                             2, (255,255,255))\n",
    "marker_show[markers==-1] = (0,255,0)\n",
    "cv2.imshow('watershed marker', marker_show)\n",
    "#cv2_imshow(marker_show)\n",
    "\n",
    "img[markers==-1] = (0,255,0)\n",
    "cv2.imshow('watershed', img)\n",
    "#cv2_imshow(img)\n",
    "\n",
    "# 동전 추출을 위한 마스킹 생성\n",
    "mask = np.zeros((rows, cols), np.uint8)\n",
    "# 배경 마스크 생성\n",
    "mask[markers!=1] = 255\n",
    "# 배경 지우기\n",
    "nobg = cv2.bitwise_and(img, img, mask=mask)\n",
    "# 동전만 있는 라벨 생성 (배경(1), 경계(-1) 없는)\n",
    "coin_label = [l for l in np.unique(markers) if (l != 1 and l !=-1)]\n",
    "# 동전 라벨 순회 하면서 동전 영역만 추출\n",
    "for i, label in enumerate(coin_label):\n",
    "    mask[:,:] = 0\n",
    "    # 해당 동전 추출 마스크 생성\n",
    "    mask[markers ==label] = 255\n",
    "    # 동전 영역만 마스크로 추출\n",
    "    coins = cv2.bitwise_and(img, img, mask=mask)\n",
    "    # 동전 하나만 있는 곳에서 최외곽 컨투어 추출\n",
    "    contour, _ = cv2.findContours(mask, cv2.RETR_EXTERNAL,\\\n",
    "                                         cv2.CHAIN_APPROX_NONE)[-2:]\n",
    "    # 동전을 감싸는 사각형 좌표\n",
    "    x,y,w,h = cv2.boundingRect(contour[0])\n",
    "    # 동전 영역만 추출해서 출력\n",
    "    coin = coins[y:y+h, x:x+w]\n",
    "    cv2.imshow('coin%d'%(i+1), coin)\n",
    "    #cv2_imshow(coin)\n",
    "    cv2.imwrite('../img/coin_test/coin%d.jpg'%(i+1), coin)\n",
    "cv2.waitKey()\n",
    "cv2.destroyAllWindows()"
   ]
  }
 ],
 "metadata": {
  "kernelspec": {
   "display_name": "Python 3",
   "language": "python",
   "name": "python3"
  },
  "language_info": {
   "codemirror_mode": {
    "name": "ipython",
    "version": 3
   },
   "file_extension": ".py",
   "mimetype": "text/x-python",
   "name": "python",
   "nbconvert_exporter": "python",
   "pygments_lexer": "ipython3",
   "version": "3.10.12"
  }
 },
 "nbformat": 4,
 "nbformat_minor": 2
}
